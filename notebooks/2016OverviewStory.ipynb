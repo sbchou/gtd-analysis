{
 "cells": [
  {
   "cell_type": "code",
   "execution_count": 1,
   "metadata": {
    "collapsed": true
   },
   "outputs": [],
   "source": [
    "%matplotlib inline\n",
    "import matplotlib.pyplot as plt\n",
    "import pandas\n",
    "import inspect\n",
    "from datetime import datetime\n",
    "import seaborn as sns\n",
    "import glob\n",
    "from os.path import basename\n",
    "sns.set_context('poster')\n",
    "import re\n",
    "import csv"
   ]
  },
  {
   "cell_type": "code",
   "execution_count": 2,
   "metadata": {
    "collapsed": true
   },
   "outputs": [],
   "source": [
    "pandas.options.display.max_rows = 4000\n",
    "pandas.options.display.max_colwidth = 4000"
   ]
  },
  {
   "cell_type": "markdown",
   "metadata": {},
   "source": [
    "## Load files"
   ]
  },
  {
   "cell_type": "code",
   "execution_count": 3,
   "metadata": {
    "collapsed": true
   },
   "outputs": [],
   "source": [
    "df = pandas.read_excel('../data/globalterrorismdb_0616dist.xlsx')"
   ]
  },
  {
   "cell_type": "code",
   "execution_count": 4,
   "metadata": {
    "collapsed": true
   },
   "outputs": [],
   "source": [
    "df_15_16 = pandas.read_excel('../data/Global Terrorism Database 2015-2016 Preliminary Data EMBARGOED.xlsx') "
   ]
  },
  {
   "cell_type": "code",
   "execution_count": 5,
   "metadata": {},
   "outputs": [
    {
     "name": "stdout",
     "output_type": "stream",
     "text": [
      "14806\n",
      "14843\n"
     ]
    }
   ],
   "source": [
    "# is the newest 2015 data same as last?\n",
    "print(df[df.iyear==2015].eventid.count())\n",
    "print(df_15_16[df_15_16.iyear==2015].eventid.count())"
   ]
  },
  {
   "cell_type": "code",
   "execution_count": 6,
   "metadata": {
    "collapsed": true
   },
   "outputs": [],
   "source": [
    "#let's use the latest 2015\n",
    "df = pandas.concat([df[df.iyear < 2015], df_15_16])"
   ]
  },
  {
   "cell_type": "code",
   "execution_count": null,
   "metadata": {},
   "outputs": [],
   "source": []
  },
  {
   "cell_type": "code",
   "execution_count": 7,
   "metadata": {},
   "outputs": [
    {
     "name": "stdout",
     "output_type": "stream",
     "text": [
      "170255\n",
      "[1970 1971 1972 1973 1974 1975 1976 1977 1978 1979 1980 1981 1986 1982 1983\n",
      " 1984 1985 1987 1988 1989 1990 1991 1992 1994 1995 1996 1997 1998 1999 2000\n",
      " 2001 2002 2003 2004 2005 2006 2007 2008 2009 2010 2011 2012 2013 2014 2015\n",
      " 2016]\n"
     ]
    }
   ],
   "source": [
    "print(df.eventid.count())\n",
    "print(df.iyear.unique()) "
   ]
  },
  {
   "cell_type": "code",
   "execution_count": 8,
   "metadata": {},
   "outputs": [
    {
     "data": {
      "text/plain": [
       "iyear\n",
       "2014    43550.0\n",
       "2015    38471.0\n",
       "2016    34623.0\n",
       "2013    22226.0\n",
       "2012    15432.0\n",
       "2007    12836.0\n",
       "2009     9271.0\n",
       "2008     9093.0\n",
       "2011     8198.0\n",
       "2010     7720.0\n",
       "Name: nkill, dtype: float64"
      ]
     },
     "execution_count": 8,
     "metadata": {},
     "output_type": "execute_result"
    }
   ],
   "source": [
    "df.groupby('iyear').nkill.sum()[36:].sort_values(ascending=False)"
   ]
  },
  {
   "cell_type": "markdown",
   "metadata": {},
   "source": [
    "## Where does terror take place?"
   ]
  },
  {
   "cell_type": "code",
   "execution_count": 11,
   "metadata": {},
   "outputs": [],
   "source": [
    "df[df.iyear==2016].region_txt.value_counts().to_csv('../data/2016-counts-by-region.csv')"
   ]
  },
  {
   "cell_type": "code",
   "execution_count": null,
   "metadata": {},
   "outputs": [],
   "source": [
    "df[df.iyear==2015].region_txt.value_counts(normalize=True)"
   ]
  },
  {
   "cell_type": "code",
   "execution_count": null,
   "metadata": {},
   "outputs": [],
   "source": [
    "df[df.iyear==2014].region_txt.value_counts(normalize=True)"
   ]
  },
  {
   "cell_type": "code",
   "execution_count": null,
   "metadata": {},
   "outputs": [],
   "source": [
    "df[df.iyear==2013].region_txt.value_counts(normalize=True)"
   ]
  },
  {
   "cell_type": "code",
   "execution_count": null,
   "metadata": {},
   "outputs": [],
   "source": [
    "df[df.iyear==2012].region_txt.value_counts(normalize=True)"
   ]
  },
  {
   "cell_type": "code",
   "execution_count": null,
   "metadata": {},
   "outputs": [],
   "source": [
    "df.region_txt.value_counts().plot(kind='bar')\n",
    "plt.title(\"Terrorism takes place predominantly in the Middle East and North Africa\")"
   ]
  },
  {
   "cell_type": "markdown",
   "metadata": {},
   "source": [
    "## Deadliest years"
   ]
  },
  {
   "cell_type": "code",
   "execution_count": null,
   "metadata": {},
   "outputs": [],
   "source": [
    "df[df.iyear>2012].groupby(['iyear']).nkill.sum()"
   ]
  },
  {
   "cell_type": "code",
   "execution_count": null,
   "metadata": {},
   "outputs": [],
   "source": [
    "df[df.iyear==2016].sort_values('nkill',ascending=False)[['nkill','nwound','nkillter','gname','country_txt','attacktype1_txt','summary','scite1','scite2']][:10]"
   ]
  },
  {
   "cell_type": "code",
   "execution_count": null,
   "metadata": {},
   "outputs": [],
   "source": [
    "df[(df.iyear==2016)&(df.country_txt==\"Iraq\")].groupby(['imonth','iday']).eventid.count().mean()"
   ]
  },
  {
   "cell_type": "code",
   "execution_count": null,
   "metadata": {},
   "outputs": [],
   "source": [
    "df[df.iyear==2016].groupby(['imonth','iday','iyear']).eventid.count().min()"
   ]
  },
  {
   "cell_type": "code",
   "execution_count": null,
   "metadata": {},
   "outputs": [],
   "source": [
    "df[(df.gname != 'Unknown')&(df.iyear==2016)].sort_values('nkill',ascending=True)[['nkill','nwound','nkillter','gname','country_txt','attacktype1_txt','summary','scite1','scite2']][:100]"
   ]
  },
  {
   "cell_type": "code",
   "execution_count": null,
   "metadata": {},
   "outputs": [],
   "source": [
    "df[(df.gname == 'Maoists')&(df.country_txt=='India')&(df.attacktype1_txt=='Bombing/Explosion')&(df.nkill==0)&(df.iyear==2016)].sort_values('nkill',ascending=True)[['nkill','nwound','nkillter','gname','country_txt','attacktype1_txt','summary','scite1','scite2']].count()"
   ]
  },
  {
   "cell_type": "code",
   "execution_count": null,
   "metadata": {},
   "outputs": [],
   "source": [
    "df[(df.gname == 'Maoists')&(df.country_txt=='India')&(df.attacktype1_txt=='Bombing/Explosion')&(df.iyear==2016)].sort_values('nkill',ascending=True)[['nkill','nwound','nkillter','gname','country_txt','attacktype1_txt','summary','scite1','scite2']].count()"
   ]
  },
  {
   "cell_type": "code",
   "execution_count": null,
   "metadata": {},
   "outputs": [],
   "source": [
    "df[(df.country_txt=='France')&(df.iyear==2016)].sort_values('nkill',ascending=False)[['nkill','nwound','nkillter','gname','country_txt','attacktype1_txt','summary','scite1','scite2']]"
   ]
  },
  {
   "cell_type": "code",
   "execution_count": null,
   "metadata": {
    "collapsed": true
   },
   "outputs": [],
   "source": []
  },
  {
   "cell_type": "code",
   "execution_count": null,
   "metadata": {},
   "outputs": [],
   "source": [
    "df[(df.iyear==2016)&(df.attacktype1_txt=='Bombing/Explosion')&(df.nkill==0)].sort_values('nkill',ascending=False)[['nkill','nwound','nkillter','gname','country_txt','attacktype1_txt','summary','scite1','scite2']][:10]"
   ]
  },
  {
   "cell_type": "code",
   "execution_count": null,
   "metadata": {},
   "outputs": [],
   "source": [
    "df[(df.iyear==2016)&(df.gname=='Abu Sayyaf Group (ASG)')].sort_values('nkill',ascending=False)[['eventid','nkill','nwound','nkillter','gname','country_txt','attacktype1_txt','summary','scite1','scite2','ransomamt']].groupby('attacktype1_txt').eventid.count().sort_values()"
   ]
  },
  {
   "cell_type": "code",
   "execution_count": null,
   "metadata": {},
   "outputs": [],
   "source": [
    "df[(df.iyear==2016)&(df.gname=='Abu Sayyaf Group (ASG)')&(df.attacktype1_txt=='Hostage Taking (Kidnapping)')].sort_values('nkill',ascending=False)[['eventid','nkill','nwound','nkillter','gname','country_txt','attacktype1_txt','summary','scite1','scite2','ransomamt','ransompaid']].groupby(['nkill','nwound','ransompaid']).eventid.count()"
   ]
  },
  {
   "cell_type": "code",
   "execution_count": null,
   "metadata": {},
   "outputs": [],
   "source": [
    "df[(df.iyear==2016)&(df.gname=='Abu Sayyaf Group (ASG)')&(df.attacktype1_txt=='Hostage Taking (Kidnapping)')].sort_values('nkill',ascending=False)[['eventid','nkill','nwound','nkillter','gname','country_txt','attacktype1_txt','summary','scite1','scite2','ransompaid']].sort_values('ransompaid' ,ascending=False\n",
    ")"
   ]
  },
  {
   "cell_type": "code",
   "execution_count": null,
   "metadata": {},
   "outputs": [],
   "source": [
    "df[(df.iyear==2016)&(df.gname=='Islamic State of Iraq and the Levant (ISIL)')&(df.nkill==1)&(df.nkillter==1)].sort_values('nkill',ascending=False)[['eventid','nkill','nwound','nkillter','gname','country_txt','attacktype1_txt','summary','scite1','scite2']].groupby('nkill').eventid.count()"
   ]
  },
  {
   "cell_type": "code",
   "execution_count": null,
   "metadata": {},
   "outputs": [],
   "source": [
    "df[(df.iyear==2016)].sort_values('nkill',ascending=False)[['eventid','nkill','nwound','nkillter','gname','country_txt','attacktype1_txt','summary','scite1','scite2']].groupby(['gname','nkill']).eventid.count().sort_values(ascending=False)"
   ]
  },
  {
   "cell_type": "code",
   "execution_count": null,
   "metadata": {},
   "outputs": [],
   "source": [
    "df[df.iyear==2016]"
   ]
  },
  {
   "cell_type": "code",
   "execution_count": null,
   "metadata": {
    "collapsed": true
   },
   "outputs": [],
   "source": []
  }
 ],
 "metadata": {
  "kernelspec": {
   "display_name": "Python 3",
   "language": "python",
   "name": "python3"
  },
  "language_info": {
   "codemirror_mode": {
    "name": "ipython",
    "version": 3
   },
   "file_extension": ".py",
   "mimetype": "text/x-python",
   "name": "python",
   "nbconvert_exporter": "python",
   "pygments_lexer": "ipython3",
   "version": "3.6.1"
  }
 },
 "nbformat": 4,
 "nbformat_minor": 2
}

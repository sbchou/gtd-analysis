{
 "cells": [
  {
   "cell_type": "code",
   "execution_count": 1,
   "metadata": {
    "collapsed": true
   },
   "outputs": [],
   "source": [
    "%matplotlib inline\n",
    "import matplotlib.pyplot as plt\n",
    "import pandas\n",
    "import inspect\n",
    "from datetime import datetime\n",
    "import seaborn as sns\n",
    "import glob\n",
    "from os.path import basename\n",
    "sns.set_context('poster')\n",
    "import re\n",
    "import csv"
   ]
  },
  {
   "cell_type": "code",
   "execution_count": 5,
   "metadata": {
    "collapsed": false
   },
   "outputs": [],
   "source": [
    "df = pandas.read_excel('../data/GTD_0616dist/gtd_12to15_0616dist.xlsx')"
   ]
  },
  {
   "cell_type": "code",
   "execution_count": 6,
   "metadata": {
    "collapsed": false
   },
   "outputs": [
    {
     "name": "stdout",
     "output_type": "stream",
     "text": [
      "52134\n"
     ]
    }
   ],
   "source": [
    "print len(df)"
   ]
  },
  {
   "cell_type": "code",
   "execution_count": 8,
   "metadata": {
    "collapsed": false
   },
   "outputs": [
    {
     "name": "stdout",
     "output_type": "stream",
     "text": [
      "52134\n"
     ]
    }
   ],
   "source": [
    "df['datetime'] = pandas.to_datetime((df.iyear*10000+df.imonth*100+df.iday).apply(str),format='%Y%m%d')\n",
    "print len(df)"
   ]
  },
  {
   "cell_type": "code",
   "execution_count": 11,
   "metadata": {
    "collapsed": false
   },
   "outputs": [
    {
     "name": "stdout",
     "output_type": "stream",
     "text": [
      "52134\n"
     ]
    }
   ],
   "source": [
    "df = df[[\"datetime\",\n",
    "    \"country_txt\",\n",
    "\"region_txt\",\n",
    "\"provstate\",\n",
    "\"city\",\n",
    "\"location\",\n",
    "\"summary\",\n",
    "\"attacktype1_txt\",\n",
    "\"targtype1_txt\",\n",
    "\"corp1\",\n",
    "\"target1\",\n",
    "\"natlty1_txt\",\n",
    "\"motive\",\n",
    "\"weaptype1_txt\",\n",
    "\"weapsubtype1_txt\",\n",
    "\"weaptype2_txt\",\n",
    "\"weapsubtype2_txt\",\n",
    "\"weaptype3_txt\",\n",
    "\"weapsubtype3_txt\",\n",
    "\"weapdetail\",\n",
    "\"nkill\",\n",
    "\"nkillus\",\n",
    "\"nkillter\",\n",
    "\"nwound\",\n",
    "\"nwoundus\",\n",
    "\"nwoundte\"]]\n",
    "print len(df)"
   ]
  },
  {
   "cell_type": "code",
   "execution_count": null,
   "metadata": {
    "collapsed": true
   },
   "outputs": [],
   "source": []
  },
  {
   "cell_type": "code",
   "execution_count": 13,
   "metadata": {
    "collapsed": false
   },
   "outputs": [
    {
     "data": {
      "text/plain": [
       "Iraq                                2743\n",
       "Afghanistan                         1926\n",
       "Pakistan                            1235\n",
       "India                                882\n",
       "Philippines                          717\n",
       "Yemen                                668\n",
       "Ukraine                              637\n",
       "Nigeria                              637\n",
       "Egypt                                582\n",
       "Libya                                542\n",
       "Syria                                485\n",
       "Bangladesh                           465\n",
       "Turkey                               416\n",
       "Somalia                              407\n",
       "Thailand                             277\n",
       "West Bank and Gaza Strip             247\n",
       "Sudan                                158\n",
       "Democratic Republic of the Congo     141\n",
       "Colombia                             135\n",
       "Mali                                 120\n",
       "United Kingdom                       115\n",
       "Saudi Arabia                         103\n",
       "Burundi                               97\n",
       "Cameroon                              82\n",
       "Kenya                                 68\n",
       "Israel                                58\n",
       "South Sudan                           54\n",
       "Germany                               50\n",
       "Central African Republic              48\n",
       "Nepal                                 47\n",
       "                                    ... \n",
       "Jordan                                 4\n",
       "Venezuela                              3\n",
       "Cyprus                                 3\n",
       "Tajikistan                             3\n",
       "Senegal                                2\n",
       "Guinea                                 2\n",
       "Laos                                   2\n",
       "Armenia                                2\n",
       "Maldives                               2\n",
       "Kosovo                                 2\n",
       "Estonia                                2\n",
       "South Africa                           2\n",
       "Kyrgyzstan                             2\n",
       "Bulgaria                               2\n",
       "Netherlands                            2\n",
       "Montenegro                             1\n",
       "Malta                                  1\n",
       "Chile                                  1\n",
       "South Korea                            1\n",
       "Djibouti                               1\n",
       "Kuwait                                 1\n",
       "Ecuador                                1\n",
       "Morocco                                1\n",
       "Trinidad and Tobago                    1\n",
       "Qatar                                  1\n",
       "Lesotho                                1\n",
       "Uzbekistan                             1\n",
       "Georgia                                1\n",
       "Hungary                                1\n",
       "Argentina                              1\n",
       "Name: country_txt, dtype: int64"
      ]
     },
     "execution_count": 13,
     "metadata": {},
     "output_type": "execute_result"
    }
   ],
   "source": [
    "df_full[df_full.iyear == 2015].country_txt.value_counts()"
   ]
  },
  {
   "cell_type": "code",
   "execution_count": 12,
   "metadata": {
    "collapsed": false
   },
   "outputs": [
    {
     "data": {
      "text/plain": [
       "Iraq                        10955\n",
       "Pakistan                     7247\n",
       "Afghanistan                  6656\n",
       "India                        3047\n",
       "Nigeria                      2311\n",
       "Philippines                  2212\n",
       "Yemen                        2165\n",
       "Somalia                      1921\n",
       "Libya                        1625\n",
       "Ukraine                      1541\n",
       "Thailand                     1450\n",
       "Egypt                        1292\n",
       "Syria                        1270\n",
       "Bangladesh                    752\n",
       "Turkey                        737\n",
       "Colombia                      628\n",
       "West Bank and Gaza Strip      467\n",
       "Israel                        454\n",
       "United Kingdom                406\n",
       "Sudan                         401\n",
       "Name: country_txt, dtype: int64"
      ]
     },
     "execution_count": 12,
     "metadata": {},
     "output_type": "execute_result"
    }
   ],
   "source": [
    "df[.value_counts()[:20]"
   ]
  },
  {
   "cell_type": "code",
   "execution_count": null,
   "metadata": {
    "collapsed": false
   },
   "outputs": [],
   "source": [
    "df.country_txt.value_counts().to_csv('../data/2012-2015-country-counts.csv')"
   ]
  },
  {
   "cell_type": "code",
   "execution_count": null,
   "metadata": {
    "collapsed": false
   },
   "outputs": [],
   "source": [
    "df.country_txt.value_counts()[:10] "
   ]
  },
  {
   "cell_type": "code",
   "execution_count": null,
   "metadata": {
    "collapsed": false
   },
   "outputs": [],
   "source": [
    "df.country_txt.value_counts()[:10].plot(kind='bar')\n",
    "plt.title('2012-2015')\n",
    "plt.ylabel('Number of incidents')"
   ]
  },
  {
   "cell_type": "code",
   "execution_count": null,
   "metadata": {
    "collapsed": false
   },
   "outputs": [],
   "source": [
    "df[df.datetime > '2015'].country_txt.value_counts()[:10] "
   ]
  },
  {
   "cell_type": "code",
   "execution_count": null,
   "metadata": {
    "collapsed": false
   },
   "outputs": [],
   "source": [
    "df[df.datetime > '2015'].country_txt.value_counts()[:10].plot(kind='bar')\n",
    "plt.title('2015')\n",
    "plt.ylabel('Number of incidents')"
   ]
  },
  {
   "cell_type": "code",
   "execution_count": null,
   "metadata": {
    "collapsed": false
   },
   "outputs": [],
   "source": [
    "\n",
    "import matplotlib.dates as mdates "
   ]
  },
  {
   "cell_type": "code",
   "execution_count": null,
   "metadata": {
    "collapsed": false
   },
   "outputs": [],
   "source": [
    "df['datestring'] = df.datetime.map(lambda t: t.strftime('%Y-%m-%d')) "
   ]
  },
  {
   "cell_type": "code",
   "execution_count": null,
   "metadata": {
    "collapsed": false
   },
   "outputs": [],
   "source": [
    "print df.datestring.value_counts()[:10]  \n",
    "df.datestring.value_counts()[:10].plot(kind='bar')\n",
    "plt.title('2012-2015 top 10 days')\n",
    "plt.ylabel('Number of incidents')"
   ]
  },
  {
   "cell_type": "code",
   "execution_count": null,
   "metadata": {
    "collapsed": false
   },
   "outputs": [],
   "source": [
    "df[df.datestring == '2014-06-14'].country_txt.value_counts()\n"
   ]
  },
  {
   "cell_type": "code",
   "execution_count": null,
   "metadata": {
    "collapsed": false
   },
   "outputs": [],
   "source": [
    "df[df.datetime > '2015'].datestring.value_counts()[:10].plot(kind='bar')\n",
    "plt.title('2015 top 10 days')\n",
    "plt.ylabel('Number of incidents')\n",
    "print df[df.datetime > '2015'].datestring.value_counts()[:10]\n"
   ]
  },
  {
   "cell_type": "code",
   "execution_count": null,
   "metadata": {
    "collapsed": false
   },
   "outputs": [],
   "source": [
    "df.datestring.describe()"
   ]
  },
  {
   "cell_type": "code",
   "execution_count": null,
   "metadata": {
    "collapsed": false
   },
   "outputs": [],
   "source": [
    "df.datetime.value_counts().describe()"
   ]
  },
  {
   "cell_type": "code",
   "execution_count": null,
   "metadata": {
    "collapsed": false
   },
   "outputs": [],
   "source": [
    "df.datetime.value_counts().mode()"
   ]
  },
  {
   "cell_type": "code",
   "execution_count": null,
   "metadata": {
    "collapsed": false
   },
   "outputs": [],
   "source": [
    "sns.distplot(df.datetime.value_counts())\n",
    "plt.ylabel('Probablity')\n",
    "plt.xlabel('Number of terror incidents')\n",
    "plt.title(\"Distribution of incidents, 2012-2015\")"
   ]
  },
  {
   "cell_type": "markdown",
   "metadata": {},
   "source": [
    "## Were there any days without terror?"
   ]
  },
  {
   "cell_type": "code",
   "execution_count": null,
   "metadata": {
    "collapsed": false
   },
   "outputs": [],
   "source": [
    "print 'MIN DATE', df.datetime.min()\n",
    "print 'MAX DATE', df.datetime.max()"
   ]
  },
  {
   "cell_type": "code",
   "execution_count": null,
   "metadata": {
    "collapsed": true
   },
   "outputs": [],
   "source": [
    "import numpy as np\n",
    "from datetime import timedelta"
   ]
  },
  {
   "cell_type": "code",
   "execution_count": null,
   "metadata": {
    "collapsed": false
   },
   "outputs": [],
   "source": [
    "timerange = np.arange(datetime(2012,1,1), datetime(2015,12,31), timedelta(days=1)).astype(datetime)"
   ]
  },
  {
   "cell_type": "code",
   "execution_count": null,
   "metadata": {
    "collapsed": false
   },
   "outputs": [],
   "source": [
    "set(df.datetime) - set(timerange)"
   ]
  },
  {
   "cell_type": "code",
   "execution_count": null,
   "metadata": {
    "collapsed": true
   },
   "outputs": [],
   "source": [
    "## redo distribution but populate days with zero incidents"
   ]
  },
  {
   "cell_type": "code",
   "execution_count": null,
   "metadata": {
    "collapsed": false
   },
   "outputs": [],
   "source": [
    "len(df.datetime.unique())"
   ]
  },
  {
   "cell_type": "markdown",
   "metadata": {},
   "source": [
    "## Let's look at year-to-year variation mayble plot dist on same x-y "
   ]
  },
  {
   "cell_type": "code",
   "execution_count": null,
   "metadata": {
    "collapsed": false
   },
   "outputs": [],
   "source": [
    "print 2015, len(df[df.datetime > '2015']) \n",
    "print 2014, len (df[(df.datetime > '2014') & (df.datetime <= '2015')])\n",
    "print 2013, len(df[(df.datetime > '2013') & (df.datetime <= '2014')])\n",
    "print 2012, len(df[(df.datetime > '2012') & (df.datetime <= '2013')])"
   ]
  },
  {
   "cell_type": "code",
   "execution_count": null,
   "metadata": {
    "collapsed": false
   },
   "outputs": [],
   "source": [
    "sns.distplot(df[df.datetime > '2015'].datetime.value_counts(), label='2015')\n",
    "sns.distplot(df[(df.datetime > '2014') & (df.datetime <= '2015')].datetime.value_counts(), label='2014')\n",
    "sns.distplot(df[(df.datetime > '2013') & (df.datetime <= '2014')].datetime.value_counts(), label='2013')\n",
    "sns.distplot(df[(df.datetime > '2012') & (df.datetime <= '2013')].datetime.value_counts(), label='2012')\n",
    "\n",
    "plt.legend(loc='upper left')\n",
    "plt.ylabel('Probablity')\n",
    "plt.xlabel('Number of terror incidents on a day with incidents')\n",
    "plt.title(\"Distribution of incidents, 2012-2015\")\n",
    " "
   ]
  },
  {
   "cell_type": "markdown",
   "metadata": {},
   "source": [
    "The average number of terrorism incidents on a day with at least one incident was lowest in 2012, increased in 2013, 2014, but then decreased in 2015.\n"
   ]
  },
  {
   "cell_type": "markdown",
   "metadata": {},
   "source": [
    "### Freq plot for 2015"
   ]
  },
  {
   "cell_type": "code",
   "execution_count": null,
   "metadata": {
    "collapsed": false
   },
   "outputs": [],
   "source": [
    "df[df.datetime > '2015'].datetime.value_counts().sort_index().plot(kind='bar')\n",
    "plt.xticks([])\n",
    "plt.title(\"Terrorist incidents for 2015\")\n",
    "plt.ylabel(\"Number of incidents\")\n",
    "plt.xlabel(\"Days\")"
   ]
  },
  {
   "cell_type": "code",
   "execution_count": null,
   "metadata": {
    "collapsed": false
   },
   "outputs": [],
   "source": [
    "test = df[df.datetime > '2015'].groupby([df.datetime, 'weaptype1_txt'])['datetime'].count().to_frame()"
   ]
  },
  {
   "cell_type": "code",
   "execution_count": null,
   "metadata": {
    "collapsed": false
   },
   "outputs": [],
   "source": [
    "df[df.datetime > '2015'].groupby([df.datetime, 'weaptype1_txt'])['datetime'].count().to_csv('../data/2015-by-weapon.csv')"
   ]
  },
  {
   "cell_type": "code",
   "execution_count": null,
   "metadata": {
    "collapsed": true
   },
   "outputs": [],
   "source": []
  },
  {
   "cell_type": "code",
   "execution_count": null,
   "metadata": {
    "collapsed": false
   },
   "outputs": [],
   "source": [
    "\n",
    "df[df.datetime > '2015'].groupby([df.datetime, 'weaptype1_txt'])['datetime'].count().plot(kind='bar')"
   ]
  },
  {
   "cell_type": "code",
   "execution_count": null,
   "metadata": {
    "collapsed": true
   },
   "outputs": [],
   "source": []
  },
  {
   "cell_type": "code",
   "execution_count": null,
   "metadata": {
    "collapsed": false
   },
   "outputs": [],
   "source": [
    "df.pivot('datetime', 'weaptype1_txt').value.plot(kind='bar', stacked=True)"
   ]
  },
  {
   "cell_type": "code",
   "execution_count": null,
   "metadata": {
    "collapsed": false
   },
   "outputs": [],
   "source": [
    "df.pivot('datetime', 'weaptype1_txt')"
   ]
  },
  {
   "cell_type": "code",
   "execution_count": null,
   "metadata": {
    "collapsed": true
   },
   "outputs": [],
   "source": []
  },
  {
   "cell_type": "markdown",
   "metadata": {},
   "source": [
    "## Most popular weapons"
   ]
  },
  {
   "cell_type": "code",
   "execution_count": null,
   "metadata": {
    "collapsed": false
   },
   "outputs": [],
   "source": [
    "df.weaptype1_txt.value_counts()"
   ]
  },
  {
   "cell_type": "code",
   "execution_count": null,
   "metadata": {
    "collapsed": true
   },
   "outputs": [],
   "source": []
  }
 ],
 "metadata": {
  "kernelspec": {
   "display_name": "Python 2",
   "language": "python",
   "name": "python2"
  },
  "language_info": {
   "codemirror_mode": {
    "name": "ipython",
    "version": 2
   },
   "file_extension": ".py",
   "mimetype": "text/x-python",
   "name": "python",
   "nbconvert_exporter": "python",
   "pygments_lexer": "ipython2",
   "version": "2.7.13"
  }
 },
 "nbformat": 4,
 "nbformat_minor": 2
}

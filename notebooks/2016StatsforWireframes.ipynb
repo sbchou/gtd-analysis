{
 "cells": [
  {
   "cell_type": "code",
   "execution_count": 1,
   "metadata": {
    "collapsed": true
   },
   "outputs": [],
   "source": [
    "%matplotlib inline\n",
    "import matplotlib.pyplot as plt\n",
    "import pandas\n",
    "import inspect\n",
    "from datetime import datetime\n",
    "import seaborn as sns\n",
    "import glob\n",
    "from os.path import basename\n",
    "sns.set_context('poster')\n",
    "import re\n",
    "import csv"
   ]
  },
  {
   "cell_type": "markdown",
   "metadata": {},
   "source": [
    "## Load files"
   ]
  },
  {
   "cell_type": "code",
   "execution_count": 2,
   "metadata": {
    "collapsed": true
   },
   "outputs": [],
   "source": [
    "df = pandas.read_excel('../data/Global Terrorism Database 2015-2016 Preliminary Data EMBARGOED.xlsx')"
   ]
  },
  {
   "cell_type": "code",
   "execution_count": 3,
   "metadata": {
    "collapsed": false
   },
   "outputs": [],
   "source": [
    "df['date'] = pandas.to_datetime((df.iyear*10000+df.imonth*100+df.iday).apply(str),format='%Y%m%d')"
   ]
  },
  {
   "cell_type": "markdown",
   "metadata": {},
   "source": [
    "## Top-level stats"
   ]
  },
  {
   "cell_type": "code",
   "execution_count": 53,
   "metadata": {
    "collapsed": false
   },
   "outputs": [
    {
     "name": "stdout",
     "output_type": "stream",
     "text": [
      "13446\n",
      "366\n",
      "2016-01-01 00:00:00\n",
      "2016-12-31 00:00:00\n"
     ]
    }
   ],
   "source": [
    "df = df[df.iyear == 2016]\n",
    "print len(df)\n",
    "print len(df.date.unique())\n",
    "print df.date.min()\n",
    "print df.date.max()"
   ]
  },
  {
   "cell_type": "markdown",
   "metadata": {},
   "source": [
    "### Day with most, least incidents"
   ]
  },
  {
   "cell_type": "code",
   "execution_count": 55,
   "metadata": {
    "collapsed": false,
    "scrolled": true
   },
   "outputs": [
    {
     "name": "stdout",
     "output_type": "stream",
     "text": [
      "day with most incidents 2016-09-21    129\n",
      "Name: date, dtype: int64\n",
      "day with least incidents 2016-12-13    14\n",
      "Name: date, dtype: int64\n"
     ]
    },
    {
     "data": {
      "text/plain": [
       "2016-08-27    36\n",
       "Name: date, dtype: int64"
      ]
     },
     "execution_count": 55,
     "metadata": {},
     "output_type": "execute_result"
    }
   ],
   "source": [
    "print \"day with most incidents\", df.date.value_counts()[:1]\n",
    "print \"day with least incidents\", df.date.value_counts(ascending=True)[:1]\n",
    "counts = df.date.value_counts()\n",
    "counts.median()\n",
    "idx = counts.index[len(counts) /2]\n",
    "counts['2016-08-27']"
   ]
  },
  {
   "cell_type": "markdown",
   "metadata": {},
   "source": [
    "### Day with most, least deaths"
   ]
  },
  {
   "cell_type": "code",
   "execution_count": 71,
   "metadata": {
    "collapsed": false
   },
   "outputs": [
    {
     "data": {
      "text/plain": [
       "date\n",
       "2016-12-10    540.0\n",
       "2016-07-03    476.0\n",
       "2016-10-21    433.0\n",
       "2016-02-07    417.0\n",
       "2016-04-15    372.0\n",
       "2016-02-24    354.0\n",
       "2016-10-03    337.0\n",
       "2016-04-21    308.0\n",
       "2016-08-19    304.0\n",
       "2016-06-01    294.0\n",
       "2016-01-15    283.0\n",
       "2016-10-26    262.0\n",
       "2016-09-05    259.0\n",
       "2016-09-08    246.0\n",
       "2016-10-20    239.0\n",
       "2016-05-23    225.0\n",
       "2016-10-29    222.0\n",
       "2016-01-16    212.0\n",
       "2016-12-18    210.0\n",
       "2016-12-16    207.0\n",
       "2016-02-27    200.0\n",
       "2016-05-12    198.0\n",
       "2016-06-30    189.0\n",
       "2016-02-28    186.0\n",
       "2016-01-04    183.0\n",
       "2016-06-15    181.0\n",
       "2016-01-07    180.0\n",
       "2016-04-18    178.0\n",
       "2016-10-28    178.0\n",
       "2016-07-31    177.0\n",
       "              ...  \n",
       "2016-12-13     32.0\n",
       "2016-12-06     31.0\n",
       "2016-09-20     31.0\n",
       "2016-06-02     30.0\n",
       "2016-09-29     30.0\n",
       "2016-09-10     29.0\n",
       "2016-09-17     29.0\n",
       "2016-08-03     28.0\n",
       "2016-12-30     28.0\n",
       "2016-02-14     28.0\n",
       "2016-01-09     27.0\n",
       "2016-03-10     27.0\n",
       "2016-07-20     26.0\n",
       "2016-05-20     26.0\n",
       "2016-08-11     25.0\n",
       "2016-11-22     25.0\n",
       "2016-05-13     25.0\n",
       "2016-07-16     24.0\n",
       "2016-09-06     24.0\n",
       "2016-02-11     23.0\n",
       "2016-03-28     23.0\n",
       "2016-05-26     23.0\n",
       "2016-12-26     22.0\n",
       "2016-12-23     21.0\n",
       "2016-01-08     18.0\n",
       "2016-12-27     18.0\n",
       "2016-11-02     17.0\n",
       "2016-01-22     17.0\n",
       "2016-03-18     13.0\n",
       "2016-12-20     11.0\n",
       "Name: nkill, dtype: float64"
      ]
     },
     "execution_count": 71,
     "metadata": {},
     "output_type": "execute_result"
    }
   ],
   "source": [
    "df.groupby(['date']).nkill.sum().sort_values(ascending=False)"
   ]
  },
  {
   "cell_type": "markdown",
   "metadata": {},
   "source": [
    "## Testing how many days have 1+ weapon/group/target types"
   ]
  },
  {
   "cell_type": "code",
   "execution_count": 81,
   "metadata": {
    "collapsed": false
   },
   "outputs": [
    {
     "name": "stdout",
     "output_type": "stream",
     "text": [
      "13446\n",
      "1393\n",
      "217\n"
     ]
    }
   ],
   "source": [
    "print len(df[df.weaptype1_txt.notnull()])\n",
    "print len(df[df.weaptype2_txt.notnull()])\n",
    "print len(df[df.weaptype3_txt.notnull()])"
   ]
  },
  {
   "cell_type": "code",
   "execution_count": 84,
   "metadata": {
    "collapsed": false
   },
   "outputs": [
    {
     "name": "stdout",
     "output_type": "stream",
     "text": [
      "13446 1.0\n",
      "891 0.066265060241\n",
      "90 0.00669344042838\n"
     ]
    }
   ],
   "source": [
    "print len(df[df.attacktype1_txt.notnull()]), len(df[df.attacktype1_txt.notnull()]) / 13446.0\n",
    "print len(df[df.attacktype2_txt.notnull()]), len(df[df.attacktype2_txt.notnull()]) / 13446.0\n",
    "print len(df[df.attacktype3_txt.notnull()]), len(df[df.attacktype3_txt.notnull()]) / 13446.0"
   ]
  },
  {
   "cell_type": "code",
   "execution_count": 88,
   "metadata": {
    "collapsed": false
   },
   "outputs": [
    {
     "name": "stdout",
     "output_type": "stream",
     "text": [
      "13446 1.0\n",
      "503 0.0374088948386\n",
      "102 0.00758589915216\n"
     ]
    }
   ],
   "source": [
    "print len(df[df.gname.notnull()]), len(df[df.gname.notnull()]) / 13446.0\n",
    "print len(df[df.gname2.notnull()]), len(df[df.gname2.notnull()]) / 13446.0\n",
    "print len(df[df.gname3.notnull()]), len(df[df.gname3.notnull()]) / 13446.0"
   ]
  },
  {
   "cell_type": "markdown",
   "metadata": {},
   "source": [
    "## On this day..."
   ]
  },
  {
   "cell_type": "code",
   "execution_count": 96,
   "metadata": {
    "collapsed": true
   },
   "outputs": [],
   "source": [
    "DAYS = ['2016-09-21','2016-12-13','2016-08-27', '2016-12-10','2016-12-20']"
   ]
  },
  {
   "cell_type": "markdown",
   "metadata": {},
   "source": [
    "### By incidents"
   ]
  },
  {
   "cell_type": "code",
   "execution_count": 144,
   "metadata": {
    "collapsed": false,
    "scrolled": false
   },
   "outputs": [
    {
     "name": "stdout",
     "output_type": "stream",
     "text": [
      "###################################################\n",
      "\n",
      "2016-09-21\n",
      "\n",
      "Top 5 countries by # incidents\n",
      "Iraq        108\n",
      "Pakistan      5\n",
      "Turkey        4\n",
      "Somalia       3\n",
      "Syria         2\n",
      "Name: country_txt, dtype: int64\n",
      "\n",
      "Top 5 groups by # incidents\n",
      "Islamic State of Iraq and the Levant (ISIL)    101\n",
      "Unknown                                         12\n",
      "Khorasan Chapter of the Islamic State            4\n",
      "Al-Shabaab                                       3\n",
      "Kurdistan Workers' Party (PKK)                   3\n",
      "Name: gname, dtype: int64\n",
      "\n",
      "Top 5 targets by # incidents\n",
      "Private Citizens & Property       110\n",
      "Religious Figures/Institutions      4\n",
      "Military                            4\n",
      "Government (General)                3\n",
      "Terrorists/Non-State Militia        2\n",
      "Name: targtype1_txt, dtype: int64\n",
      "\n",
      "Top 5 weapons by # incidents\n",
      "Explosives/Bombs/Dynamite    111\n",
      "Incendiary                     7\n",
      "Firearms                       5\n",
      "Unknown                        3\n",
      "Melee                          3\n",
      "Name: weaptype1_txt, dtype: int64\n",
      "\n",
      "###################################################\n",
      "\n",
      "2016-12-13\n",
      "\n",
      "Top 5 countries by # incidents\n",
      "Iraq                        3\n",
      "Philippines                 2\n",
      "Thailand                    2\n",
      "Somalia                     2\n",
      "West Bank and Gaza Strip    1\n",
      "Name: country_txt, dtype: int64\n",
      "\n",
      "Top 5 groups by # incidents\n",
      "Unknown                                        5\n",
      "Islamic State of Iraq and the Levant (ISIL)    3\n",
      "Al-Shabaab                                     2\n",
      "Adan-Abyan Province of the Islamic State       1\n",
      "Bangsamoro Islamic Freedom Movement (BIFM)     1\n",
      "Name: gname, dtype: int64\n",
      "\n",
      "Top 5 targets by # incidents\n",
      "Military                        6\n",
      "Private Citizens & Property     2\n",
      "Terrorists/Non-State Militia    1\n",
      "Educational Institution         1\n",
      "Violent Political Party         1\n",
      "Name: targtype1_txt, dtype: int64\n",
      "\n",
      "Top 5 weapons by # incidents\n",
      "Explosives/Bombs/Dynamite    6\n",
      "Firearms                     4\n",
      "Unknown                      2\n",
      "Melee                        2\n",
      "Name: weaptype1_txt, dtype: int64\n",
      "\n",
      "###################################################\n",
      "\n",
      "2016-08-27\n",
      "\n",
      "Top 5 countries by # incidents\n",
      "Iraq           11\n",
      "Afghanistan     6\n",
      "Mozambique      4\n",
      "Turkey          3\n",
      "Somalia         2\n",
      "Name: country_txt, dtype: int64\n",
      "\n",
      "Top 5 groups by # incidents\n",
      "Unknown                                          13\n",
      "Islamic State of Iraq and the Levant (ISIL)       5\n",
      "Mozambique National Resistance Movement (MNR)     4\n",
      "Al-Shabaab                                        3\n",
      "Kurdistan Workers' Party (PKK)                    3\n",
      "Name: gname, dtype: int64\n",
      "\n",
      "Top 5 targets by # incidents\n",
      "Military                       7\n",
      "Private Citizens & Property    7\n",
      "Police                         7\n",
      "Business                       4\n",
      "Government (General)           3\n",
      "Name: targtype1_txt, dtype: int64\n",
      "\n",
      "Top 5 weapons by # incidents\n",
      "Explosives/Bombs/Dynamite    21\n",
      "Firearms                     11\n",
      "Unknown                       4\n",
      "Name: weaptype1_txt, dtype: int64\n",
      "\n",
      "###################################################\n",
      "\n",
      "2016-12-10\n",
      "\n",
      "Top 5 countries by # incidents\n",
      "Turkey         3\n",
      "Nigeria        2\n",
      "India          2\n",
      "Afghanistan    2\n",
      "Syria          2\n",
      "Name: country_txt, dtype: int64\n",
      "\n",
      "Top 5 groups by # incidents\n",
      "Unknown                                        7\n",
      "Islamic State of Iraq and the Levant (ISIL)    2\n",
      "Kurdistan Freedom Hawks (TAK)                  2\n",
      "Al-Shabaab                                     2\n",
      "Taliban                                        2\n",
      "Name: gname, dtype: int64\n",
      "\n",
      "Top 5 targets by # incidents\n",
      "Military                       6\n",
      "Private Citizens & Property    4\n",
      "Business                       3\n",
      "Police                         2\n",
      "Educational Institution        1\n",
      "Name: targtype1_txt, dtype: int64\n",
      "\n",
      "Top 5 weapons by # incidents\n",
      "Explosives/Bombs/Dynamite    12\n",
      "Firearms                      5\n",
      "Unknown                       1\n",
      "Incendiary                    1\n",
      "Name: weaptype1_txt, dtype: int64\n",
      "\n",
      "###################################################\n",
      "\n",
      "2016-12-20\n",
      "\n",
      "Top 5 countries by # incidents\n",
      "India          4\n",
      "Yemen          2\n",
      "Philippines    2\n",
      "Afghanistan    2\n",
      "Iraq           1\n",
      "Name: country_txt, dtype: int64\n",
      "\n",
      "Top 5 groups by # incidents\n",
      "Unknown                      9\n",
      "Taliban                      2\n",
      "Al-Shabaab                   1\n",
      "Abu Sayyaf Group (ASG)       1\n",
      "Kuki National Front (KNF)    1\n",
      "Name: gname, dtype: int64\n",
      "\n",
      "Top 5 targets by # incidents\n",
      "Military                       4\n",
      "Private Citizens & Property    3\n",
      "Government (General)           3\n",
      "Business                       2\n",
      "Government (Diplomatic)        1\n",
      "Name: targtype1_txt, dtype: int64\n",
      "\n",
      "Top 5 weapons by # incidents\n",
      "Firearms                     9\n",
      "Explosives/Bombs/Dynamite    5\n",
      "Unknown                      2\n",
      "Incendiary                   1\n",
      "Melee                        1\n",
      "Name: weaptype1_txt, dtype: int64\n",
      "\n"
     ]
    }
   ],
   "source": [
    "for day in DAYS: \n",
    "    print \"###################################################\"\n",
    "    print\n",
    "    print day\n",
    "    print\n",
    "    # top 5 countries by incident\n",
    "    print \"Top 5 countries by # incidents\" \n",
    "    print df[df.date == pandas.DatetimeIndex([datetime.strptime(day, '%Y-%m-%d')])[0]].country_txt.value_counts()[:5]\n",
    "    print\n",
    "    \n",
    "    print \"Top 5 groups by # incidents\" \n",
    "    print df[df.date == pandas.DatetimeIndex([datetime.strptime(day, '%Y-%m-%d')])[0]].gname.value_counts()[:5]\n",
    "    print\n",
    "    \n",
    "    print \"Top 5 targets by # incidents\" \n",
    "    print df[df.date == pandas.DatetimeIndex([datetime.strptime(day, '%Y-%m-%d')])[0]].targtype1_txt.value_counts()[:5]\n",
    "    print \n",
    "    \n",
    "    print \"Top 5 weapons by # incidents\" \n",
    "    print df[df.date == pandas.DatetimeIndex([datetime.strptime(day, '%Y-%m-%d')])[0]].weaptype1_txt.value_counts()[:5]\n",
    "    print "
   ]
  },
  {
   "cell_type": "markdown",
   "metadata": {},
   "source": [
    "### By deaths"
   ]
  },
  {
   "cell_type": "code",
   "execution_count": 149,
   "metadata": {
    "collapsed": false
   },
   "outputs": [
    {
     "name": "stdout",
     "output_type": "stream",
     "text": [
      "###################################################\n",
      "\n",
      "2016-09-21\n",
      "\n",
      "Top 5 countries by # deaths\n",
      "date        country_txt\n",
      "2016-09-21  Iraq           18.0\n",
      "            Afghanistan     6.0\n",
      "            Cameroon        4.0\n",
      "            Turkey          2.0\n",
      "            Somalia         2.0\n",
      "Name: nkill, dtype: float64\n",
      "\n",
      "Top 5 groups by # deaths\n",
      "date        gname                         \n",
      "2016-09-21  Unknown                           21.0\n",
      "            Boko Haram                         4.0\n",
      "            Taliban                            3.0\n",
      "            Kurdistan Workers' Party (PKK)     2.0\n",
      "            Al-Shabaab                         2.0\n",
      "Name: nkill, dtype: float64\n",
      "\n",
      "Top 5 targets by # deaths\n",
      "date        targtype1_txt               \n",
      "2016-09-21  Private Citizens & Property     12.0\n",
      "            Unknown                          9.0\n",
      "            Terrorists/Non-State Militia     4.0\n",
      "            Police                           3.0\n",
      "            Government (General)             2.0\n",
      "Name: nkill, dtype: float64\n",
      "\n",
      "Top 5 weapons by # deaths\n",
      "date        weaptype1_txt            \n",
      "2016-09-21  Explosives/Bombs/Dynamite    25.0\n",
      "            Firearms                      7.0\n",
      "            Melee                         0.0\n",
      "            Incendiary                    0.0\n",
      "            Unknown                       NaN\n",
      "Name: nkill, dtype: float64\n",
      "\n",
      "###################################################\n",
      "\n",
      "2016-12-13\n",
      "\n",
      "Top 5 countries by # deaths\n",
      "date        country_txt\n",
      "2016-12-13  Iraq           19.0\n",
      "            Somalia         7.0\n",
      "            Afghanistan     5.0\n",
      "            India           1.0\n",
      "            Yemen           0.0\n",
      "Name: nkill, dtype: float64\n",
      "\n",
      "Top 5 groups by # deaths\n",
      "date        gname                                      \n",
      "2016-12-13  Islamic State of Iraq and the Levant (ISIL)    19.0\n",
      "            Al-Shabaab                                      7.0\n",
      "            Taliban                                         5.0\n",
      "            Unknown                                         1.0\n",
      "            New People's Army (NPA)                         0.0\n",
      "Name: nkill, dtype: float64\n",
      "\n",
      "Top 5 targets by # deaths\n",
      "date        targtype1_txt               \n",
      "2016-12-13  Military                        29.0\n",
      "            Private Citizens & Property      2.0\n",
      "            Violent Political Party          1.0\n",
      "            Transportation                   0.0\n",
      "            Terrorists/Non-State Militia     0.0\n",
      "Name: nkill, dtype: float64\n",
      "\n",
      "Top 5 weapons by # deaths\n",
      "date        weaptype1_txt            \n",
      "2016-12-13  Explosives/Bombs/Dynamite    29.0\n",
      "            Unknown                       2.0\n",
      "            Firearms                      1.0\n",
      "            Melee                         0.0\n",
      "Name: nkill, dtype: float64\n",
      "\n",
      "###################################################\n",
      "\n",
      "2016-08-27\n",
      "\n",
      "Top 5 countries by # deaths\n",
      "date        country_txt\n",
      "2016-08-27  Iraq           36.0\n",
      "            Paraguay        8.0\n",
      "            Afghanistan     6.0\n",
      "            Chad            4.0\n",
      "            Libya           3.0\n",
      "Name: nkill, dtype: float64\n",
      "\n",
      "Top 5 groups by # deaths\n",
      "date        gname                                      \n",
      "2016-08-27  Islamic State of Iraq and the Levant (ISIL)    25.0\n",
      "            Unknown                                        15.0\n",
      "            Paraguayan People's Army (EPP)                  8.0\n",
      "            Taliban                                         4.0\n",
      "            Boko Haram                                      4.0\n",
      "Name: nkill, dtype: float64\n",
      "\n",
      "Top 5 targets by # deaths\n",
      "date        targtype1_txt               \n",
      "2016-08-27  Military                        18.0\n",
      "            Police                          14.0\n",
      "            Private Citizens & Property     10.0\n",
      "            Terrorists/Non-State Militia     7.0\n",
      "            Business                         5.0\n",
      "Name: nkill, dtype: float64\n",
      "\n",
      "Top 5 weapons by # deaths\n",
      "date        weaptype1_txt            \n",
      "2016-08-27  Explosives/Bombs/Dynamite    32.0\n",
      "            Unknown                      16.0\n",
      "            Firearms                     14.0\n",
      "Name: nkill, dtype: float64\n",
      "\n",
      "###################################################\n",
      "\n",
      "2016-12-10\n",
      "\n",
      "Top 5 countries by # deaths\n",
      "date        country_txt\n",
      "2016-12-10  Syria          421.0\n",
      "            Yemen           58.0\n",
      "            Turkey          46.0\n",
      "            Afghanistan      7.0\n",
      "            Somalia          2.0\n",
      "Name: nkill, dtype: float64\n",
      "\n",
      "Top 5 groups by # deaths\n",
      "date        gname                                      \n",
      "2016-12-10  Islamic State of Iraq and the Levant (ISIL)    421.0\n",
      "            Adan-Abyan Province of the Islamic State        58.0\n",
      "            Kurdistan Freedom Hawks (TAK)                   46.0\n",
      "            Taliban                                          7.0\n",
      "            Unknown                                          4.0\n",
      "Name: nkill, dtype: float64\n",
      "\n",
      "Top 5 targets by # deaths\n",
      "date        targtype1_txt              \n",
      "2016-12-10  Private Citizens & Property    429.0\n",
      "            Military                        60.0\n",
      "            Business                        46.0\n",
      "            Police                           3.0\n",
      "            Journalists & Media              1.0\n",
      "Name: nkill, dtype: float64\n",
      "\n",
      "Top 5 weapons by # deaths\n",
      "date        weaptype1_txt            \n",
      "2016-12-10  Explosives/Bombs/Dynamite    534.0\n",
      "            Firearms                       6.0\n",
      "            Incendiary                     0.0\n",
      "            Unknown                        NaN\n",
      "Name: nkill, dtype: float64\n",
      "\n",
      "###################################################\n",
      "\n",
      "2016-12-20\n",
      "\n",
      "Top 5 countries by # deaths\n",
      "date        country_txt\n",
      "2016-12-20  Philippines    2.0\n",
      "            Afghanistan    2.0\n",
      "            Yemen          1.0\n",
      "            Sudan          1.0\n",
      "            Somalia        1.0\n",
      "Name: nkill, dtype: float64\n",
      "\n",
      "Top 5 groups by # deaths\n",
      "date        gname                                      \n",
      "2016-12-20  Unknown                                        7.0\n",
      "            Taliban                                        2.0\n",
      "            Islamic State of Iraq and the Levant (ISIL)    1.0\n",
      "            Al-Shabaab                                     1.0\n",
      "            Tripoli Province of the Islamic State          0.0\n",
      "Name: nkill, dtype: float64\n",
      "\n",
      "Top 5 targets by # deaths\n",
      "date        targtype1_txt              \n",
      "2016-12-20  Government (General)           4.0\n",
      "            Military                       3.0\n",
      "            Private Citizens & Property    2.0\n",
      "            Unknown                        1.0\n",
      "            Educational Institution        1.0\n",
      "Name: nkill, dtype: float64\n",
      "\n",
      "Top 5 weapons by # deaths\n",
      "date        weaptype1_txt            \n",
      "2016-12-20  Firearms                     6.0\n",
      "            Explosives/Bombs/Dynamite    5.0\n",
      "            Unknown                      0.0\n",
      "            Melee                        0.0\n",
      "            Incendiary                   0.0\n",
      "Name: nkill, dtype: float64\n",
      "\n"
     ]
    }
   ],
   "source": [
    "for day in DAYS: \n",
    "    print \"###################################################\"\n",
    "    print\n",
    "    print day\n",
    "    print\n",
    "    # top 5 countries by death\n",
    "    print \"Top 5 countries by # deaths\" \n",
    "    print df[df.date == pandas.DatetimeIndex([datetime.strptime(day, '%Y-%m-%d')])[0]].groupby(['date', 'country_txt']).nkill.sum().sort_values(ascending=False)[:5]\n",
    "    print\n",
    "    \n",
    "    print \"Top 5 groups by # deaths\" \n",
    "    print df[df.date == pandas.DatetimeIndex([datetime.strptime(day, '%Y-%m-%d')])[0]].groupby(['date', 'gname']).nkill.sum().sort_values(ascending=False)[:5]\n",
    "    print\n",
    "    \n",
    "    print \"Top 5 targets by # deaths\" \n",
    "    print df[df.date == pandas.DatetimeIndex([datetime.strptime(day, '%Y-%m-%d')])[0]].groupby(['date', 'targtype1_txt']).nkill.sum().sort_values(ascending=False)[:5]\n",
    "    print \n",
    "    \n",
    "    print \"Top 5 weapons by # deaths\" \n",
    "    print df[df.date == pandas.DatetimeIndex([datetime.strptime(day, '%Y-%m-%d')])[0]].groupby(['date', 'weaptype1_txt']).nkill.sum().sort_values(ascending=False)[:5]\n",
    "    print "
   ]
  }
 ],
 "metadata": {
  "kernelspec": {
   "display_name": "Python 2",
   "language": "python",
   "name": "python2"
  },
  "language_info": {
   "codemirror_mode": {
    "name": "ipython",
    "version": 2
   },
   "file_extension": ".py",
   "mimetype": "text/x-python",
   "name": "python",
   "nbconvert_exporter": "python",
   "pygments_lexer": "ipython2",
   "version": "2.7.13"
  }
 },
 "nbformat": 4,
 "nbformat_minor": 2
}

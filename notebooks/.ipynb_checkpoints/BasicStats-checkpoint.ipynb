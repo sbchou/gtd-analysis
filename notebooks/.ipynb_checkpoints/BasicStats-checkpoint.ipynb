{
 "cells": [
  {
   "cell_type": "code",
   "execution_count": 1,
   "metadata": {
    "collapsed": true
   },
   "outputs": [],
   "source": [
    "%matplotlib inline\n",
    "import matplotlib.pyplot as plt\n",
    "import pandas\n",
    "import inspect\n",
    "from datetime import datetime\n",
    "import seaborn as sns\n",
    "import glob\n",
    "from os.path import basename\n",
    "sns.set_context('poster')\n",
    "import re\n",
    "import csv"
   ]
  },
  {
   "cell_type": "code",
   "execution_count": 5,
   "metadata": {
    "collapsed": false
   },
   "outputs": [],
   "source": [
    "df = pandas.read_excel('../data/GTD_0616dist/gtd_12to15_0616dist.xlsx')"
   ]
  },
  {
   "cell_type": "code",
   "execution_count": 6,
   "metadata": {
    "collapsed": false
   },
   "outputs": [
    {
     "name": "stdout",
     "output_type": "stream",
     "text": [
      "52134\n"
     ]
    }
   ],
   "source": [
    "print len(df)"
   ]
  },
  {
   "cell_type": "code",
   "execution_count": 8,
   "metadata": {
    "collapsed": false
   },
   "outputs": [
    {
     "name": "stdout",
     "output_type": "stream",
     "text": [
      "52134\n"
     ]
    }
   ],
   "source": [
    "df['datetime'] = pandas.to_datetime((df.iyear*10000+df.imonth*100+df.iday).apply(str),format='%Y%m%d')\n",
    "print len(df)"
   ]
  },
  {
   "cell_type": "code",
   "execution_count": 10,
   "metadata": {
    "collapsed": false
   },
   "outputs": [
    {
     "name": "stdout",
     "output_type": "stream",
     "text": [
      "52134\n"
     ]
    }
   ],
   "source": [
    "df_sub = df[[\"datetime\",\n",
    "    \"country_txt\",\n",
    "\"region_txt\",\n",
    "\"provstate\",\n",
    "\"city\",\n",
    "\"location\",\n",
    "\"summary\",\n",
    "\"attacktype1_txt\",\n",
    "\"targtype1_txt\",\n",
    "\"corp1\",\n",
    "\"target1\",\n",
    "\"natlty1_txt\",\n",
    "\"motive\",\n",
    "\"weaptype1_txt\",\n",
    "\"weapsubtype1_txt\",\n",
    "\"weaptype2_txt\",\n",
    "\"weapsubtype2_txt\",\n",
    "\"weaptype3_txt\",\n",
    "\"weapsubtype3_txt\",\n",
    "\"weapdetail\",\n",
    "\"nkill\",\n",
    "\"nkillus\",\n",
    "\"nkillter\",\n",
    "\"nwound\",\n",
    "\"nwoundus\",\n",
    "\"nwoundte\"]]\n",
    "print len(df_sub)"
   ]
  },
  {
   "cell_type": "code",
   "execution_count": null,
   "metadata": {
    "collapsed": true
   },
   "outputs": [],
   "source": []
  },
  {
   "cell_type": "code",
   "execution_count": null,
   "metadata": {
    "collapsed": false
   },
   "outputs": [],
   "source": [
    "df_full[df_full.iyear == 2015].country_txt.value_counts()"
   ]
  },
  {
   "cell_type": "code",
   "execution_count": null,
   "metadata": {
    "collapsed": false
   },
   "outputs": [],
   "source": [
    " "
   ]
  },
  {
   "cell_type": "code",
   "execution_count": null,
   "metadata": {
    "collapsed": false
   },
   "outputs": [],
   "source": [
    "df = pandas.read_excel('../data/GTD_0616dist/gtd_12to15_0616dist.xlsx')"
   ]
  },
  {
   "cell_type": "code",
   "execution_count": null,
   "metadata": {
    "collapsed": false,
    "scrolled": false
   },
   "outputs": [],
   "source": [
    "print len(df.columns)\n",
    "print len (df)"
   ]
  },
  {
   "cell_type": "code",
   "execution_count": null,
   "metadata": {
    "collapsed": false
   },
   "outputs": [],
   "source": [
    "df['datetime'] = pandas.to_datetime((df.iyear*10000+df.imonth*100+df.iday).apply(str),format='%Y%m%d')"
   ]
  },
  {
   "cell_type": "code",
   "execution_count": null,
   "metadata": {
    "collapsed": false
   },
   "outputs": [],
   "source": [
    "df = df[[\"datetime\",\n",
    "    \"country_txt\",\n",
    "\"region_txt\",\n",
    "\"provstate\",\n",
    "\"city\",\n",
    "\"location\",\n",
    "\"summary\",\n",
    "\"attacktype1_txt\",\n",
    "\"targtype1_txt\",\n",
    "\"corp1\",\n",
    "\"target1\",\n",
    "\"natlty1_txt\",\n",
    "\"motive\",\n",
    "\"weaptype1_txt\",\n",
    "\"weapsubtype1_txt\",\n",
    "\"weaptype2_txt\",\n",
    "\"weapsubtype2_txt\",\n",
    "\"weaptype3_txt\",\n",
    "\"weapsubtype3_txt\",\n",
    "\"weapdetail\",\n",
    "\"nkill\",\n",
    "\"nkillus\",\n",
    "\"nkillter\",\n",
    "\"nwound\",\n",
    "\"nwoundus\",\n",
    "\"nwoundte\"]]"
   ]
  },
  {
   "cell_type": "code",
   "execution_count": null,
   "metadata": {
    "collapsed": false
   },
   "outputs": [],
   "source": [
    "#df.to_csv('gtd_12to15_0616dist-SUBSET.csv', encoding='utf-8')"
   ]
  },
  {
   "cell_type": "code",
   "execution_count": null,
   "metadata": {
    "collapsed": false
   },
   "outputs": [],
   "source": [
    "df.datetime.max()"
   ]
  },
  {
   "cell_type": "code",
   "execution_count": null,
   "metadata": {
    "collapsed": false
   },
   "outputs": [],
   "source": [
    "df.country_txt.value_counts()[:20]"
   ]
  },
  {
   "cell_type": "code",
   "execution_count": null,
   "metadata": {
    "collapsed": false
   },
   "outputs": [],
   "source": [
    "df.country_txt.value_counts().to_csv('../data/2012-2015-country-counts.csv')"
   ]
  },
  {
   "cell_type": "code",
   "execution_count": null,
   "metadata": {
    "collapsed": false
   },
   "outputs": [],
   "source": [
    "df.country_txt.value_counts()[:10] "
   ]
  },
  {
   "cell_type": "code",
   "execution_count": null,
   "metadata": {
    "collapsed": false
   },
   "outputs": [],
   "source": [
    "df.country_txt.value_counts()[:10].plot(kind='bar')\n",
    "plt.title('2012-2015')\n",
    "plt.ylabel('Number of incidents')"
   ]
  },
  {
   "cell_type": "code",
   "execution_count": null,
   "metadata": {
    "collapsed": false
   },
   "outputs": [],
   "source": [
    "df[df.datetime > '2015'].country_txt.value_counts()[:10] "
   ]
  },
  {
   "cell_type": "code",
   "execution_count": null,
   "metadata": {
    "collapsed": false
   },
   "outputs": [],
   "source": [
    "df[df.datetime > '2015'].country_txt.value_counts()[:10].plot(kind='bar')\n",
    "plt.title('2015')\n",
    "plt.ylabel('Number of incidents')"
   ]
  },
  {
   "cell_type": "code",
   "execution_count": null,
   "metadata": {
    "collapsed": false
   },
   "outputs": [],
   "source": [
    "\n",
    "import matplotlib.dates as mdates "
   ]
  },
  {
   "cell_type": "code",
   "execution_count": null,
   "metadata": {
    "collapsed": false
   },
   "outputs": [],
   "source": [
    "df['datestring'] = df.datetime.map(lambda t: t.strftime('%Y-%m-%d')) "
   ]
  },
  {
   "cell_type": "code",
   "execution_count": null,
   "metadata": {
    "collapsed": false
   },
   "outputs": [],
   "source": [
    "print df.datestring.value_counts()[:10]  \n",
    "df.datestring.value_counts()[:10].plot(kind='bar')\n",
    "plt.title('2012-2015 top 10 days')\n",
    "plt.ylabel('Number of incidents')"
   ]
  },
  {
   "cell_type": "code",
   "execution_count": null,
   "metadata": {
    "collapsed": false
   },
   "outputs": [],
   "source": [
    "df[df.datestring == '2014-06-14'].country_txt.value_counts()\n"
   ]
  },
  {
   "cell_type": "code",
   "execution_count": null,
   "metadata": {
    "collapsed": false
   },
   "outputs": [],
   "source": [
    "df[df.datetime > '2015'].datestring.value_counts()[:10].plot(kind='bar')\n",
    "plt.title('2015 top 10 days')\n",
    "plt.ylabel('Number of incidents')\n",
    "print df[df.datetime > '2015'].datestring.value_counts()[:10]\n"
   ]
  },
  {
   "cell_type": "code",
   "execution_count": null,
   "metadata": {
    "collapsed": false
   },
   "outputs": [],
   "source": [
    "df.datestring.describe()"
   ]
  },
  {
   "cell_type": "code",
   "execution_count": null,
   "metadata": {
    "collapsed": false
   },
   "outputs": [],
   "source": [
    "df.datetime.value_counts().describe()"
   ]
  },
  {
   "cell_type": "code",
   "execution_count": null,
   "metadata": {
    "collapsed": false
   },
   "outputs": [],
   "source": [
    "df.datetime.value_counts().mode()"
   ]
  },
  {
   "cell_type": "code",
   "execution_count": null,
   "metadata": {
    "collapsed": false
   },
   "outputs": [],
   "source": [
    "sns.distplot(df.datetime.value_counts())\n",
    "plt.ylabel('Probablity')\n",
    "plt.xlabel('Number of terror incidents')\n",
    "plt.title(\"Distribution of incidents, 2012-2015\")"
   ]
  },
  {
   "cell_type": "markdown",
   "metadata": {},
   "source": [
    "## Were there any days without terror?"
   ]
  },
  {
   "cell_type": "code",
   "execution_count": null,
   "metadata": {
    "collapsed": false
   },
   "outputs": [],
   "source": [
    "print 'MIN DATE', df.datetime.min()\n",
    "print 'MAX DATE', df.datetime.max()"
   ]
  },
  {
   "cell_type": "code",
   "execution_count": null,
   "metadata": {
    "collapsed": true
   },
   "outputs": [],
   "source": [
    "import numpy as np\n",
    "from datetime import timedelta"
   ]
  },
  {
   "cell_type": "code",
   "execution_count": null,
   "metadata": {
    "collapsed": false
   },
   "outputs": [],
   "source": [
    "timerange = np.arange(datetime(2012,1,1), datetime(2015,12,31), timedelta(days=1)).astype(datetime)"
   ]
  },
  {
   "cell_type": "code",
   "execution_count": null,
   "metadata": {
    "collapsed": false
   },
   "outputs": [],
   "source": [
    "set(df.datetime) - set(timerange)"
   ]
  },
  {
   "cell_type": "code",
   "execution_count": null,
   "metadata": {
    "collapsed": true
   },
   "outputs": [],
   "source": [
    "## redo distribution but populate days with zero incidents"
   ]
  },
  {
   "cell_type": "code",
   "execution_count": null,
   "metadata": {
    "collapsed": false
   },
   "outputs": [],
   "source": [
    "len(df.datetime.unique())"
   ]
  },
  {
   "cell_type": "markdown",
   "metadata": {},
   "source": [
    "## Let's look at year-to-year variation mayble plot dist on same x-y "
   ]
  },
  {
   "cell_type": "code",
   "execution_count": null,
   "metadata": {
    "collapsed": false
   },
   "outputs": [],
   "source": [
    "print 2015, len(df[df.datetime > '2015']) \n",
    "print 2014, len (df[(df.datetime > '2014') & (df.datetime <= '2015')])\n",
    "print 2013, len(df[(df.datetime > '2013') & (df.datetime <= '2014')])\n",
    "print 2012, len(df[(df.datetime > '2012') & (df.datetime <= '2013')])"
   ]
  },
  {
   "cell_type": "code",
   "execution_count": null,
   "metadata": {
    "collapsed": false
   },
   "outputs": [],
   "source": [
    "sns.distplot(df[df.datetime > '2015'].datetime.value_counts(), label='2015')\n",
    "sns.distplot(df[(df.datetime > '2014') & (df.datetime <= '2015')].datetime.value_counts(), label='2014')\n",
    "sns.distplot(df[(df.datetime > '2013') & (df.datetime <= '2014')].datetime.value_counts(), label='2013')\n",
    "sns.distplot(df[(df.datetime > '2012') & (df.datetime <= '2013')].datetime.value_counts(), label='2012')\n",
    "\n",
    "plt.legend(loc='upper left')\n",
    "plt.ylabel('Probablity')\n",
    "plt.xlabel('Number of terror incidents on a day with incidents')\n",
    "plt.title(\"Distribution of incidents, 2012-2015\")\n",
    " "
   ]
  },
  {
   "cell_type": "markdown",
   "metadata": {},
   "source": [
    "The average number of terrorism incidents on a day with at least one incident was lowest in 2012, increased in 2013, 2014, but then decreased in 2015.\n"
   ]
  },
  {
   "cell_type": "markdown",
   "metadata": {},
   "source": [
    "### Freq plot for 2015"
   ]
  },
  {
   "cell_type": "code",
   "execution_count": null,
   "metadata": {
    "collapsed": false
   },
   "outputs": [],
   "source": [
    "df[df.datetime > '2015'].datetime.value_counts().sort_index().plot(kind='bar')\n",
    "plt.xticks([])\n",
    "plt.title(\"Terrorist incidents for 2015\")\n",
    "plt.ylabel(\"Number of incidents\")\n",
    "plt.xlabel(\"Days\")"
   ]
  },
  {
   "cell_type": "code",
   "execution_count": null,
   "metadata": {
    "collapsed": false
   },
   "outputs": [],
   "source": [
    "test = df[df.datetime > '2015'].groupby([df.datetime, 'weaptype1_txt'])['datetime'].count().to_frame()"
   ]
  },
  {
   "cell_type": "code",
   "execution_count": null,
   "metadata": {
    "collapsed": false
   },
   "outputs": [],
   "source": [
    "df[df.datetime > '2015'].groupby([df.datetime, 'weaptype1_txt'])['datetime'].count().to_csv('../data/2015-by-weapon.csv')"
   ]
  },
  {
   "cell_type": "code",
   "execution_count": null,
   "metadata": {
    "collapsed": true
   },
   "outputs": [],
   "source": []
  },
  {
   "cell_type": "code",
   "execution_count": null,
   "metadata": {
    "collapsed": false
   },
   "outputs": [],
   "source": [
    "\n",
    "df[df.datetime > '2015'].groupby([df.datetime, 'weaptype1_txt'])['datetime'].count().plot(kind='bar')"
   ]
  },
  {
   "cell_type": "code",
   "execution_count": null,
   "metadata": {
    "collapsed": true
   },
   "outputs": [],
   "source": []
  },
  {
   "cell_type": "code",
   "execution_count": null,
   "metadata": {
    "collapsed": false
   },
   "outputs": [],
   "source": [
    "df.pivot('datetime', 'weaptype1_txt').value.plot(kind='bar', stacked=True)"
   ]
  },
  {
   "cell_type": "code",
   "execution_count": null,
   "metadata": {
    "collapsed": false
   },
   "outputs": [],
   "source": [
    "df.pivot('datetime', 'weaptype1_txt')"
   ]
  },
  {
   "cell_type": "code",
   "execution_count": null,
   "metadata": {
    "collapsed": true
   },
   "outputs": [],
   "source": []
  },
  {
   "cell_type": "markdown",
   "metadata": {},
   "source": [
    "## Most popular weapons"
   ]
  },
  {
   "cell_type": "code",
   "execution_count": null,
   "metadata": {
    "collapsed": false
   },
   "outputs": [],
   "source": [
    "df.weaptype1_txt.value_counts()"
   ]
  },
  {
   "cell_type": "code",
   "execution_count": null,
   "metadata": {
    "collapsed": true
   },
   "outputs": [],
   "source": []
  }
 ],
 "metadata": {
  "kernelspec": {
   "display_name": "Python 2",
   "language": "python",
   "name": "python2"
  },
  "language_info": {
   "codemirror_mode": {
    "name": "ipython",
    "version": 2
   },
   "file_extension": ".py",
   "mimetype": "text/x-python",
   "name": "python",
   "nbconvert_exporter": "python",
   "pygments_lexer": "ipython2",
   "version": "2.7.13"
  }
 },
 "nbformat": 4,
 "nbformat_minor": 2
}

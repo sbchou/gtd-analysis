{
 "cells": [
  {
   "cell_type": "code",
   "execution_count": 1,
   "metadata": {
    "collapsed": true
   },
   "outputs": [],
   "source": [
    "%matplotlib inline\n",
    "import matplotlib.pyplot as plt\n",
    "import pandas\n",
    "import inspect\n",
    "from datetime import datetime\n",
    "import seaborn as sns\n",
    "import glob\n",
    "from os.path import basename\n",
    "sns.set_context('poster')\n",
    "import re\n",
    "import csv"
   ]
  },
  {
   "cell_type": "markdown",
   "metadata": {},
   "source": [
    "## Load files"
   ]
  },
  {
   "cell_type": "code",
   "execution_count": 2,
   "metadata": {
    "collapsed": false
   },
   "outputs": [],
   "source": [
    "df_hist = pandas.read_excel('../data/globalterrorismdb_0616dist.xlsx')"
   ]
  },
  {
   "cell_type": "code",
   "execution_count": 3,
   "metadata": {
    "collapsed": true
   },
   "outputs": [],
   "source": [
    "df_16 = pandas.read_excel('../data/Global Terrorism Database 2015-2016 Preliminary Data EMBARGOED.xlsx')"
   ]
  },
  {
   "cell_type": "code",
   "execution_count": 9,
   "metadata": {
    "collapsed": false
   },
   "outputs": [],
   "source": [
    "# IMPORTANTE!!!!!!!!!!!!\n",
    "df_16 = df_16[df_16.iyear == 2016]"
   ]
  },
  {
   "cell_type": "code",
   "execution_count": 10,
   "metadata": {
    "collapsed": false
   },
   "outputs": [],
   "source": [
    "df = pandas.concat([df_hist, df_16])"
   ]
  },
  {
   "cell_type": "code",
   "execution_count": null,
   "metadata": {
    "collapsed": false
   },
   "outputs": [],
   "source": [
    "#df['datetime'] = pandas.to_datetime((df.iyear*10000+df.imonth*100+df.iday).apply(str),format='%Y%m%d')"
   ]
  },
  {
   "cell_type": "code",
   "execution_count": null,
   "metadata": {
    "collapsed": false
   },
   "outputs": [],
   "source": [
    "print df.iyear.max()\n",
    "print df.iyear.min()"
   ]
  },
  {
   "cell_type": "markdown",
   "metadata": {},
   "source": [
    "## Suicide attacks over time\n"
   ]
  },
  {
   "cell_type": "code",
   "execution_count": null,
   "metadata": {
    "collapsed": false,
    "scrolled": true
   },
   "outputs": [],
   "source": [
    "df[(df.suicide == 1)].groupby(['iyear']).eventid.count().plot()\n",
    "plt.ylabel(\"incidents\")\n",
    "plt.title(\"Suicide attack incidents (fatal and nonfatal) by year\")\n",
    "plt.xlabel('year')"
   ]
  },
  {
   "cell_type": "code",
   "execution_count": null,
   "metadata": {
    "collapsed": true
   },
   "outputs": [],
   "source": [
    "## export the above data\n",
    "df[(df.suicide == 1)].groupby(['iyear']).eventid.count().to_csv('../manchester/suicide-attacks-1970-2016.csv')"
   ]
  },
  {
   "cell_type": "code",
   "execution_count": null,
   "metadata": {
    "collapsed": false
   },
   "outputs": [],
   "source": [
    "#df[(df.suicide == 1)].groupby(['iyear']).nkill.sum()"
   ]
  },
  {
   "cell_type": "code",
   "execution_count": null,
   "metadata": {
    "collapsed": false
   },
   "outputs": [],
   "source": [
    "df[(df.suicide == 1)].groupby(['iyear']).nkill.sum().plot()\n",
    "plt.ylabel(\"Deaths\")\n",
    "plt.title(\"Deaths by suicide attack incidents by year\")\n",
    "plt.xlabel('year')"
   ]
  },
  {
   "cell_type": "markdown",
   "metadata": {},
   "source": [
    "## % of suicide attacks claimed by ISIL"
   ]
  },
  {
   "cell_type": "code",
   "execution_count": null,
   "metadata": {
    "collapsed": false
   },
   "outputs": [],
   "source": [
    "df[(df.suicide == 1)].groupby(['iyear']).eventid.count().plot() \n",
    "df[(df.suicide == 1) & (df.gname == 'Islamic State of Iraq and the Levant (ISIL)')].groupby(['iyear']).eventid.count().plot()\n",
    "plt.legend(['all suicide attacks','suicide attacks with group name ISIL'])\n",
    "plt.title(\"Suicide attacks (fatal & nonfatal)\")"
   ]
  },
  {
   "cell_type": "markdown",
   "metadata": {},
   "source": [
    "### Previous suicide attacks in the UK (since 1970)"
   ]
  },
  {
   "cell_type": "code",
   "execution_count": null,
   "metadata": {
    "collapsed": false
   },
   "outputs": [],
   "source": [
    "# How many suicide attacks?\n",
    "print df.iyear.min()\n",
    "df[(df.country_txt=='United Kingdom') & (df.suicide ==1)].groupby(['iyear']).eventid.count()"
   ]
  },
  {
   "cell_type": "code",
   "execution_count": null,
   "metadata": {
    "collapsed": false
   },
   "outputs": [],
   "source": [
    "df[(df.country_txt=='United Kingdom') & (df.suicide ==1)][['city', 'country_txt', 'suicide', 'gname',\n",
    "                                                           'claimed', 'guncertain1',\n",
    "                                                           'iyear', 'imonth','iday', 'attacktype1_txt',\n",
    "                                                          'motive', 'nkill','nkillter','nwound','nperps',\n",
    "                                                          'target1', 'summary']].to_csv(\"../manchester/uk-suicide-attacks.csv\", \n",
    "                                                                                       encoding='utf8')"
   ]
  },
  {
   "cell_type": "code",
   "execution_count": null,
   "metadata": {
    "collapsed": false
   },
   "outputs": [],
   "source": [
    "print \"\\n\".join(df.columns)"
   ]
  },
  {
   "cell_type": "code",
   "execution_count": null,
   "metadata": {
    "collapsed": true
   },
   "outputs": [],
   "source": []
  },
  {
   "cell_type": "code",
   "execution_count": null,
   "metadata": {
    "collapsed": true
   },
   "outputs": [],
   "source": []
  },
  {
   "cell_type": "code",
   "execution_count": null,
   "metadata": {
    "collapsed": false
   },
   "outputs": [],
   "source": [
    "# UK ONLY: Attacks claimed by ISIL by year\n",
    "df[df.gname == 'Islamic State of Iraq and the Levant (ISIL)'].groupby(['iyear','claimed']).eventid.count() #.to_csv('../data/ISIL/isil-claimed-by-year.csv', header=True)"
   ]
  },
  {
   "cell_type": "code",
   "execution_count": null,
   "metadata": {
    "collapsed": false
   },
   "outputs": [],
   "source": [
    "# United Kingdom gname \n",
    "df[df.country_txt=='United Kingdom'].groupby(['iyear', 'gname']).eventid.count()#.to_csv('../data/ISIL/uk-gnames.csv')"
   ]
  },
  {
   "cell_type": "code",
   "execution_count": null,
   "metadata": {
    "collapsed": false
   },
   "outputs": [],
   "source": [
    "# United Kingdom attacks target/perp\n",
    "df[df.country_txt=='United Kingdom'].groupby(['iyear', 'gname','target1']).eventid.count()#.to_csv('../data/ISIL/uk-target-perp.csv', encoding='utf8',header=True)"
   ]
  },
  {
   "cell_type": "code",
   "execution_count": null,
   "metadata": {
    "collapsed": false
   },
   "outputs": [],
   "source": [
    "# Only fatal attacks in UK\n",
    "df[(df.country_txt=='United Kingdom')&(df.nkill > 0)].groupby(['iyear', 'gname']).datetime.count().to_csv('../data/ISIL/uk-gnames-fatal-attacks-only.csv')"
   ]
  },
  {
   "cell_type": "code",
   "execution_count": null,
   "metadata": {
    "collapsed": false
   },
   "outputs": [],
   "source": [
    "# United Kingdom attacks by weapon type ALL\n",
    "df[df.country_txt=='United Kingdom'].groupby(['iyear', 'weaptype1_txt']).datetime.count().to_csv('../data/ISIL/uk-weapon-type-ALL.csv')"
   ]
  },
  {
   "cell_type": "code",
   "execution_count": null,
   "metadata": {
    "collapsed": true
   },
   "outputs": [],
   "source": [
    "# United Kingdom attacks by weapon type FATAL\n",
    "c].groupby(['iyear', 'weaptype1_txt']).datetime.count().to_csv('../data/ISIL/uk-weapon-type-fatal.csv')"
   ]
  },
  {
   "cell_type": "code",
   "execution_count": null,
   "metadata": {
    "collapsed": false
   },
   "outputs": [],
   "source": [
    " df.groupby(['iyear', 'suicide']).datetime.count()"
   ]
  },
  {
   "cell_type": "code",
   "execution_count": null,
   "metadata": {
    "collapsed": false,
    "scrolled": true
   },
   "outputs": [],
   "source": [
    "df.groupby(['iyear', 'suicide']).eventid.count()"
   ]
  },
  {
   "cell_type": "code",
   "execution_count": null,
   "metadata": {
    "collapsed": false
   },
   "outputs": [],
   "source": [
    "df[df.gname == 'Islamic State of Iraq and the Levant (ISIL)'].groupby('iyear').datetime.count()"
   ]
  },
  {
   "cell_type": "code",
   "execution_count": null,
   "metadata": {
    "collapsed": false
   },
   "outputs": [],
   "source": [
    "df[df.gname == 'Islamic State of Iraq and the Levant (ISIL)'][['claimed','compclaim','guncertain1']].count()"
   ]
  },
  {
   "cell_type": "code",
   "execution_count": null,
   "metadata": {
    "collapsed": false
   },
   "outputs": [],
   "source": [
    "# Attacks claimed by ISIL by year\n",
    "df[df.gname == 'Islamic State of Iraq and the Levant (ISIL)'].groupby(['iyear','claimed']).datetime.count().to_csv('../data/isil-claimed-by-year.csv', header=True)"
   ]
  },
  {
   "cell_type": "code",
   "execution_count": null,
   "metadata": {
    "collapsed": false
   },
   "outputs": [],
   "source": [
    "# Attacks claimed by ISIL but uncertain by year\n",
    "df[(df.gname == 'Islamic State of Iraq and the Levant (ISIL)')&(df.claimed == 1)].groupby(['iyear','guncertain1']).datetime.count().to_csv(\"../data/ISIL/isil-claimed-guncertain-by-year.csv\",header=True)"
   ]
  },
  {
   "cell_type": "code",
   "execution_count": null,
   "metadata": {
    "collapsed": false,
    "scrolled": true
   },
   "outputs": [],
   "source": [
    " # Attacks claimed by ISIL but uncertain by year in Western Europe\n",
    "df[(df.gname == 'Islamic State of Iraq and the Levant (ISIL)')&(df.region==8) &(df.claimed == 1) ].groupby(['iyear','guncertain1']).datetime.count()"
   ]
  },
  {
   "cell_type": "code",
   "execution_count": null,
   "metadata": {
    "collapsed": false
   },
   "outputs": [],
   "source": []
  },
  {
   "cell_type": "code",
   "execution_count": null,
   "metadata": {
    "collapsed": true
   },
   "outputs": [],
   "source": []
  },
  {
   "cell_type": "code",
   "execution_count": null,
   "metadata": {
    "collapsed": true
   },
   "outputs": [],
   "source": []
  },
  {
   "cell_type": "markdown",
   "metadata": {},
   "source": [
    "## All the data"
   ]
  },
  {
   "cell_type": "code",
   "execution_count": null,
   "metadata": {
    "collapsed": true
   },
   "outputs": [],
   "source": [
    "df_ALL = pandas.read_excel('../data/globalterrorismdb_0616dist.xlsx')"
   ]
  },
  {
   "cell_type": "code",
   "execution_count": null,
   "metadata": {
    "collapsed": false
   },
   "outputs": [],
   "source": [
    "df_ALL[(df_ALL.country_txt=='United Kingdom') & (df_ALL.suicide ==1)].groupby(['iyear', 'suicide']).eventid.count().to_csv('../data/ISIL/uk-suicide-attack.csv',header=True)"
   ]
  },
  {
   "cell_type": "code",
   "execution_count": null,
   "metadata": {
    "collapsed": false
   },
   "outputs": [],
   "source": [
    "df_ALL[(df_ALL.suicide == 1)].groupby(['iyear']).eventid.count().to_csv('../data/ISIL/rise-of-suicide-attacks-global.csv', header=True)"
   ]
  },
  {
   "cell_type": "code",
   "execution_count": null,
   "metadata": {
    "collapsed": false
   },
   "outputs": [],
   "source": [
    "#deadliness of uk attacks\n",
    "df_ALL[(df_ALL.country_txt=='United Kingdom')].groupby(['iyear','nkill']).eventid.count().to_csv('../data/ISIL/uk-nkill.csv', header=True)"
   ]
  },
  {
   "cell_type": "code",
   "execution_count": null,
   "metadata": {
    "collapsed": false
   },
   "outputs": [],
   "source": [
    "df_ALL[(df_ALL.suicide == 1)].groupby(['iyear']).eventid.count().plot()\n",
    "plt.title('Suicide attacks over time (all attacks fatal and nonfatal)')"
   ]
  },
  {
   "cell_type": "code",
   "execution_count": null,
   "metadata": {
    "collapsed": false
   },
   "outputs": [],
   "source": [
    "df_ALL[(df_ALL.suicide == 1)].country_txt.value_counts()"
   ]
  },
  {
   "cell_type": "code",
   "execution_count": null,
   "metadata": {
    "collapsed": true
   },
   "outputs": [],
   "source": []
  }
 ],
 "metadata": {
  "kernelspec": {
   "display_name": "Python 2",
   "language": "python",
   "name": "python2"
  },
  "language_info": {
   "codemirror_mode": {
    "name": "ipython",
    "version": 2
   },
   "file_extension": ".py",
   "mimetype": "text/x-python",
   "name": "python",
   "nbconvert_exporter": "python",
   "pygments_lexer": "ipython2",
   "version": "2.7.13"
  }
 },
 "nbformat": 4,
 "nbformat_minor": 2
}

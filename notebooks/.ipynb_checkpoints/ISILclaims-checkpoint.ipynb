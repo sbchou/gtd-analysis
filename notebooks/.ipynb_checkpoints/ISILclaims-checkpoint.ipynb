{
 "cells": [
  {
   "cell_type": "code",
   "execution_count": 3,
   "metadata": {
    "collapsed": true
   },
   "outputs": [],
   "source": [
    "%matplotlib inline\n",
    "import matplotlib.pyplot as plt\n",
    "import pandas\n",
    "import inspect\n",
    "from datetime import datetime\n",
    "import seaborn as sns\n",
    "import glob\n",
    "from os.path import basename\n",
    "sns.set_context('poster')\n",
    "import re\n",
    "import csv"
   ]
  },
  {
   "cell_type": "markdown",
   "metadata": {},
   "source": [
    "## Load files"
   ]
  },
  {
   "cell_type": "code",
   "execution_count": 4,
   "metadata": {},
   "outputs": [],
   "source": [
    "#df_12_15 = pandas.read_excel('../data/GTD_0616dist/gtd_12to15_0616dist.xlsx')"
   ]
  },
  {
   "cell_type": "code",
   "execution_count": null,
   "metadata": {
    "collapsed": true
   },
   "outputs": [],
   "source": [
    "#df_16 = pandas.read_excel('../data/Global Terrorism Database 2015-2016 Preliminary Data EMBARGOED.xlsx')"
   ]
  },
  {
   "cell_type": "code",
   "execution_count": 4,
   "metadata": {},
   "outputs": [],
   "source": [
    "#df = pandas.concat([df_12_15, df_16])"
   ]
  },
  {
   "cell_type": "code",
   "execution_count": null,
   "metadata": {
    "collapsed": true
   },
   "outputs": [],
   "source": [
    "df_1516 = pandas.read_excel('../data/Global Terrorism Database 2015-2016 Preliminary Data EMBARGOED.xlsx')"
   ]
  },
  {
   "cell_type": "code",
   "execution_count": 8,
   "metadata": {},
   "outputs": [
    {
     "data": {
      "text/plain": [
       "{2015, 2016}"
      ]
     },
     "execution_count": 8,
     "metadata": {},
     "output_type": "execute_result"
    }
   ],
   "source": [
    "df = df_1516"
   ]
  },
  {
   "cell_type": "code",
   "execution_count": 5,
   "metadata": {},
   "outputs": [],
   "source": [
    "df['datetime'] = pandas.to_datetime((df.iyear*10000+df.imonth*100+df.iday).apply(str),format='%Y%m%d')"
   ]
  },
  {
   "cell_type": "markdown",
   "metadata": {},
   "source": [
    "## All ISIL  attacks\n"
   ]
  },
  {
   "cell_type": "code",
   "execution_count": 12,
   "metadata": {},
   "outputs": [
    {
     "data": {
      "text/plain": [
       "iyear\n",
       "2013     373\n",
       "2014    1243\n",
       "2015    2439\n",
       "2016    1430\n",
       "Name: datetime, dtype: int64"
      ]
     },
     "execution_count": 12,
     "metadata": {},
     "output_type": "execute_result"
    }
   ],
   "source": [
    "df[df.gname == 'Islamic State of Iraq and the Levant (ISIL)'].groupby('iyear').datetime.count()"
   ]
  },
  {
   "cell_type": "code",
   "execution_count": 22,
   "metadata": {},
   "outputs": [
    {
     "data": {
      "text/plain": [
       "claimed        5485\n",
       "compclaim        18\n",
       "guncertain1    5485\n",
       "dtype: int64"
      ]
     },
     "execution_count": 22,
     "metadata": {},
     "output_type": "execute_result"
    }
   ],
   "source": [
    "df[df.gname == 'Islamic State of Iraq and the Levant (ISIL)'][['claimed','compclaim','guncertain1']].count()"
   ]
  },
  {
   "cell_type": "code",
   "execution_count": 28,
   "metadata": {},
   "outputs": [],
   "source": [
    "# Attacks claimed by ISIL by year\n",
    "df[df.gname == 'Islamic State of Iraq and the Levant (ISIL)'].groupby(['iyear','claimed']).datetime.count().to_csv('../data/isil-claimed-by-year.csv', header=True)"
   ]
  },
  {
   "cell_type": "code",
   "execution_count": 49,
   "metadata": {},
   "outputs": [],
   "source": [
    "# Attacks claimed by ISIL but uncertain by year\n",
    "df[(df.gname == 'Islamic State of Iraq and the Levant (ISIL)')&(df.claimed == 1)].groupby(['iyear','guncertain1']).datetime.count().to_csv(\"../data/ISIL/isil-claimed-guncertain-by-year.csv\",header=True)"
   ]
  },
  {
   "cell_type": "code",
   "execution_count": 50,
   "metadata": {},
   "outputs": [
    {
     "data": {
      "text/plain": [
       "iyear  guncertain1\n",
       "2015   0.0            17\n",
       "2016   0.0             2\n",
       "Name: datetime, dtype: int64"
      ]
     },
     "execution_count": 50,
     "metadata": {},
     "output_type": "execute_result"
    }
   ],
   "source": [
    " # Attacks claimed by ISIL but uncertain by year in Western Europe\n",
    "df[(df.gname == 'Islamic State of Iraq and the Levant (ISIL)')&(df.region==8) &(df.claimed == 1) ].groupby(['iyear','guncertain1']).datetime.count()"
   ]
  },
  {
   "cell_type": "markdown",
   "metadata": {},
   "source": [
    "### UK analysis"
   ]
  },
  {
   "cell_type": "code",
   "execution_count": null,
   "metadata": {
    "collapsed": true
   },
   "outputs": [],
   "source": [
    "# UK ONLY: Attacks claimed by ISIL by year\n",
    "df[df.gname == 'Islamic State of Iraq and the Levant (ISIL)'].groupby(['iyear','claimed']).datetime.count().to_csv('../data/ISIL/isil-claimed-by-year.csv', header=True)"
   ]
  },
  {
   "cell_type": "code",
   "execution_count": 39,
   "metadata": {},
   "outputs": [],
   "source": [
    "# United Kingdom gname \n",
    "df[df.country_txt=='United Kingdom'].groupby(['iyear', 'gname']).datetime.count().to_csv('../data/ISIL/uk-gnames.csv')"
   ]
  },
  {
   "cell_type": "code",
   "execution_count": 57,
   "metadata": {},
   "outputs": [],
   "source": [
    "# United Kingdom attacks target/perp\n",
    "df[df.country_txt=='United Kingdom'].groupby(['iyear', 'gname','target1']).datetime.count().to_csv('../data/ISIL/uk-target-perp.csv', encoding='utf8',header=True)"
   ]
  },
  {
   "cell_type": "code",
   "execution_count": 58,
   "metadata": {},
   "outputs": [],
   "source": [
    "# Only fatal attacks in UK\n",
    "df[(df.country_txt=='United Kingdom')&(df.nkill > 0)].groupby(['iyear', 'gname']).datetime.count().to_csv('../data/ISIL/uk-gnames-fatal-attacks-only.csv')"
   ]
  },
  {
   "cell_type": "code",
   "execution_count": 62,
   "metadata": {},
   "outputs": [],
   "source": [
    "# United Kingdom attacks by weapon type ALL\n",
    "df[df.country_txt=='United Kingdom'].groupby(['iyear', 'weaptype1_txt']).datetime.count().to_csv('../data/ISIL/uk-weapon-type-ALL.csv')"
   ]
  },
  {
   "cell_type": "code",
   "execution_count": 63,
   "metadata": {
    "collapsed": true
   },
   "outputs": [],
   "source": [
    "# United Kingdom attacks by weapon type FATAL\n",
    "c].groupby(['iyear', 'weaptype1_txt']).datetime.count().to_csv('../data/ISIL/uk-weapon-type-fatal.csv')"
   ]
  },
  {
   "cell_type": "code",
   "execution_count": 67,
   "metadata": {},
   "outputs": [
    {
     "data": {
      "text/plain": [
       "iyear  suicide\n",
       "2012   0           51\n",
       "2013   0          137\n",
       "2014   0          103\n",
       "2015   0          230\n",
       "2016   0          103\n",
       "Name: datetime, dtype: int64"
      ]
     },
     "execution_count": 67,
     "metadata": {},
     "output_type": "execute_result"
    }
   ],
   "source": [
    "# United Kingdom attacks SUICIDE\n",
    "df[(df.country_txt=='United Kingdom')].groupby(['iyear', 'suicide']).datetime.count()"
   ]
  },
  {
   "cell_type": "code",
   "execution_count": 68,
   "metadata": {},
   "outputs": [
    {
     "data": {
      "text/plain": [
       "iyear  suicide\n",
       "2012   0           8096\n",
       "       1            402\n",
       "2013   0          11367\n",
       "       1            623\n",
       "2014   0          16101\n",
       "       1            739\n",
       "2015   0          27836\n",
       "       1           1813\n",
       "2016   0          12469\n",
       "       1            977\n",
       "Name: datetime, dtype: int64"
      ]
     },
     "execution_count": 68,
     "metadata": {},
     "output_type": "execute_result"
    }
   ],
   "source": [
    " df.groupby(['iyear', 'suicide']).datetime.count()"
   ]
  },
  {
   "cell_type": "code",
   "execution_count": 77,
   "metadata": {},
   "outputs": [
    {
     "data": {
      "text/plain": [
       "iyear  suicide\n",
       "2012   0           8096\n",
       "       1            402\n",
       "2013   0          11367\n",
       "       1            623\n",
       "2014   0          16101\n",
       "       1            739\n",
       "2015   0          27836\n",
       "       1           1813\n",
       "2016   0          12469\n",
       "       1            977\n",
       "Name: eventid, dtype: int64"
      ]
     },
     "execution_count": 77,
     "metadata": {},
     "output_type": "execute_result"
    }
   ],
   "source": [
    "df.groupby(['iyear', 'suicide']).eventid.count()"
   ]
  },
  {
   "cell_type": "markdown",
   "metadata": {},
   "source": [
    "## All the data"
   ]
  },
  {
   "cell_type": "code",
   "execution_count": 69,
   "metadata": {
    "collapsed": true
   },
   "outputs": [],
   "source": [
    "df_ALL = pandas.read_excel('../data/globalterrorismdb_0616dist.xlsx')"
   ]
  },
  {
   "cell_type": "code",
   "execution_count": 82,
   "metadata": {},
   "outputs": [],
   "source": [
    "df_ALL[(df_ALL.country_txt=='United Kingdom') & (df_ALL.suicide ==1)].groupby(['iyear', 'suicide']).eventid.count().to_csv('../data/ISIL/uk-suicide-attack.csv',header=True)"
   ]
  },
  {
   "cell_type": "code",
   "execution_count": 86,
   "metadata": {},
   "outputs": [],
   "source": [
    "df_ALL[(df_ALL.suicide == 1)].groupby(['iyear']).eventid.count().to_csv('../data/ISIL/rise-of-suicide-attacks-global.csv', header=True)"
   ]
  },
  {
   "cell_type": "code",
   "execution_count": 91,
   "metadata": {},
   "outputs": [],
   "source": [
    "#deadliness of uk attacks\n",
    "df_ALL[(df_ALL.country_txt=='United Kingdom')].groupby(['iyear','nkill']).eventid.count().to_csv('../data/ISIL/uk-nkill.csv', header=True)"
   ]
  },
  {
   "cell_type": "code",
   "execution_count": 93,
   "metadata": {},
   "outputs": [
    {
     "data": {
      "text/plain": [
       "<matplotlib.text.Text at 0x127ef6390>"
      ]
     },
     "execution_count": 93,
     "metadata": {},
     "output_type": "execute_result"
    },
    {
     "data": {
      "image/png": "[encoded data removed]",
      "text/plain": [
       "<matplotlib.figure.Figure at 0x11206d250>"
      ]
     },
     "metadata": {},
     "output_type": "display_data"
    }
   ],
   "source": [
    "df_ALL[(df_ALL.suicide == 1)].groupby(['iyear']).eventid.count().plot()\n",
    "plt.title('Suicide attacks over time (all attacks fatal and nonfatal)')"
   ]
  },
  {
   "cell_type": "code",
   "execution_count": 96,
   "metadata": {},
   "outputs": [
    {
     "data": {
      "text/plain": [
       "Iraq                        1815\n",
       "Afghanistan                  982\n",
       "Pakistan                     448\n",
       "Nigeria                      211\n",
       "Syria                        206\n",
       "Yemen                        151\n",
       "Israel                       129\n",
       "Sri Lanka                    114\n",
       "Somalia                      104\n",
       "Russia                        79\n",
       "West Bank and Gaza Strip      61\n",
       "Lebanon                       60\n",
       "Turkey                        44\n",
       "Libya                         44\n",
       "India                         32\n",
       "Egypt                         31\n",
       "Algeria                       29\n",
       "Mali                          28\n",
       "Cameroon                      23\n",
       "China                         17\n",
       "Saudi Arabia                  17\n",
       "Chad                          13\n",
       "Indonesia                     12\n",
       "Morocco                       11\n",
       "Bangladesh                     9\n",
       "United States                  9\n",
       "Iran                           8\n",
       "Philippines                    8\n",
       "Niger                          8\n",
       "Tunisia                        7\n",
       "Uzbekistan                     6\n",
       "France                         6\n",
       "Kenya                          5\n",
       "United Kingdom                 5\n",
       "Colombia                       4\n",
       "Jordan                         3\n",
       "Mauritania                     3\n",
       "Argentina                      2\n",
       "Ukraine                        2\n",
       "Uganda                         2\n",
       "Croatia                        2\n",
       "Kazakhstan                     2\n",
       "Kuwait                         2\n",
       "Sweden                         1\n",
       "United Arab Emirates           1\n",
       "Ethiopia                       1\n",
       "Djibouti                       1\n",
       "Tanzania                       1\n",
       "Finland                        1\n",
       "Mexico                         1\n",
       "Panama                         1\n",
       "Qatar                          1\n",
       "Tajikistan                     1\n",
       "Czech Republic                 1\n",
       "Myanmar                        1\n",
       "South Africa                   1\n",
       "Bulgaria                       1\n",
       "South Sudan                    1\n",
       "International                  1\n",
       "Italy                          1\n",
       "Name: country_txt, dtype: int64"
      ]
     },
     "execution_count": 96,
     "metadata": {},
     "output_type": "execute_result"
    }
   ],
   "source": [
    "df_ALL[(df_ALL.suicide == 1)].country_txt.value_counts()"
   ]
  },
  {
   "cell_type": "code",
   "execution_count": null,
   "metadata": {
    "collapsed": true
   },
   "outputs": [],
   "source": []
  }
 ],
 "metadata": {
  "kernelspec": {
   "display_name": "Python 3",
   "language": "python",
   "name": "python3"
  },
  "language_info": {
   "codemirror_mode": {
    "name": "ipython",
    "version": 3
   },
   "file_extension": ".py",
   "mimetype": "text/x-python",
   "name": "python",
   "nbconvert_exporter": "python",
   "pygments_lexer": "ipython3",
   "version": "3.6.1"
  }
 },
 "nbformat": 4,
 "nbformat_minor": 2
}

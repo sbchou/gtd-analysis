{
 "cells": [
  {
   "cell_type": "code",
   "execution_count": 1,
   "metadata": {
    "collapsed": true
   },
   "outputs": [],
   "source": [
    "%matplotlib inline\n",
    "import matplotlib.pyplot as plt\n",
    "import pandas\n",
    "import inspect\n",
    "from datetime import datetime\n",
    "import seaborn as sns\n",
    "import glob\n",
    "from os.path import basename\n",
    "sns.set_context('poster')\n",
    "import re\n",
    "import csv"
   ]
  },
  {
   "cell_type": "markdown",
   "metadata": {},
   "source": [
    "## Load files"
   ]
  },
  {
   "cell_type": "code",
   "execution_count": 2,
   "metadata": {
    "collapsed": true
   },
   "outputs": [],
   "source": [
    "df = pandas.read_excel('../data/globalterrorismdb_0616dist.xlsx')"
   ]
  },
  {
   "cell_type": "code",
   "execution_count": 3,
   "metadata": {
    "collapsed": true
   },
   "outputs": [],
   "source": [
    "df_15_16 = pandas.read_excel('../data/Global Terrorism Database 2015-2016 Preliminary Data EMBARGOED.xlsx') "
   ]
  },
  {
   "cell_type": "code",
   "execution_count": 4,
   "metadata": {
    "collapsed": false
   },
   "outputs": [
    {
     "name": "stdout",
     "output_type": "stream",
     "text": [
      "14806\n",
      "14843\n"
     ]
    }
   ],
   "source": [
    "# is the newest 2015 data same as last?\n",
    "print df[df.iyear==2015].eventid.count()\n",
    "print df_15_16[df_15_16.iyear==2015].eventid.count()"
   ]
  },
  {
   "cell_type": "code",
   "execution_count": 5,
   "metadata": {
    "collapsed": false
   },
   "outputs": [],
   "source": [
    "#let's use the latest 2015\n",
    "df = pandas.concat([df[df.iyear < 2015], df_15_16])"
   ]
  },
  {
   "cell_type": "markdown",
   "metadata": {},
   "source": [
    "Check basic stats"
   ]
  },
  {
   "cell_type": "code",
   "execution_count": 18,
   "metadata": {
    "collapsed": false
   },
   "outputs": [
    {
     "name": "stdout",
     "output_type": "stream",
     "text": [
      "170255\n",
      "[1970 1971 1972 1973 1974 1975 1976 1977 1978 1979 1980 1981 1986 1982 1983\n",
      " 1984 1985 1987 1988 1989 1990 1991 1992 1994 1995 1996 1997 1998 1999 2000\n",
      " 2001 2002 2003 2004 2005 2006 2007 2008 2009 2010 2011 2012 2013 2014 2015\n",
      " 2016]\n"
     ]
    }
   ],
   "source": [
    "print df.eventid.count()\n",
    "print df.iyear.unique()"
   ]
  },
  {
   "cell_type": "markdown",
   "metadata": {},
   "source": [
    "## Analyze looking at long tails"
   ]
  },
  {
   "cell_type": "code",
   "execution_count": 22,
   "metadata": {
    "collapsed": false
   },
   "outputs": [
    {
     "data": {
      "text/plain": [
       "gname\n",
       "Islamic State of Iraq and the Levant (ISIL)                   24\n",
       "Boko Haram                                                    20\n",
       "Unknown                                                        6\n",
       "Al-Shabaab                                                     4\n",
       "Donetsk People's Republic                                      3\n",
       "Taliban                                                        3\n",
       "Al-Qaida in Iraq                                               3\n",
       "Tehrik-i-Taliban Pakistan (TTP)                                3\n",
       "Sudan People's Liberation Movement in Opposition (SPLM-IO)     2\n",
       "Al-Qaida in the Arabian Peninsula (AQAP)                       2\n",
       "Ansar al-Din Front                                             1\n",
       "Communist Party of India - Maoist (CPI-Maoist)                 1\n",
       "David Yau Yau Militia                                          1\n",
       "Islamic State of Iraq (ISI)                                    1\n",
       "Fulani Militants                                               1\n",
       "Harkatul Jihad-e-Islami                                        1\n",
       "Justice and Equality Movement (JEM)                            1\n",
       "Lord's Resistance Army (LRA)                                   1\n",
       "M23                                                            1\n",
       "Rebels                                                         1\n",
       "Sinai Province of the Islamic State                            1\n",
       "Sudan People's Liberation Movement - North                     1\n",
       "Al-Nusrah Front                                                1\n",
       "Name: eventid, dtype: int64"
      ]
     },
     "execution_count": 22,
     "metadata": {},
     "output_type": "execute_result"
    }
   ],
   "source": [
    "df[(df.iyear > 2006)&(df.nkill > 100)].groupby([\"gname\"]).eventid.count().sort_values(ascending=False)"
   ]
  },
  {
   "cell_type": "markdown",
   "metadata": {},
   "source": [
    "### Deadliest attacks by ISIL"
   ]
  },
  {
   "cell_type": "code",
   "execution_count": 36,
   "metadata": {
    "collapsed": false
   },
   "outputs": [
    {
     "data": {
      "text/html": [
       "<div>\n",
       "<table border=\"1\" class=\"dataframe\">\n",
       "  <thead>\n",
       "    <tr style=\"text-align: right;\">\n",
       "      <th></th>\n",
       "      <th>gname</th>\n",
       "      <th>nkill</th>\n",
       "      <th>attacktype1_txt</th>\n",
       "    </tr>\n",
       "  </thead>\n",
       "  <tbody>\n",
       "    <tr>\n",
       "      <th>133286</th>\n",
       "      <td>Islamic State of Iraq and the Levant (ISIL)</td>\n",
       "      <td>1500.0</td>\n",
       "      <td>Hostage Taking (Kidnapping)</td>\n",
       "    </tr>\n",
       "    <tr>\n",
       "      <th>132993</th>\n",
       "      <td>Islamic State of Iraq and the Levant (ISIL)</td>\n",
       "      <td>670.0</td>\n",
       "      <td>Armed Assault</td>\n",
       "    </tr>\n",
       "    <tr>\n",
       "      <th>136503</th>\n",
       "      <td>Islamic State of Iraq and the Levant (ISIL)</td>\n",
       "      <td>517.0</td>\n",
       "      <td>Hostage Taking (Kidnapping)</td>\n",
       "    </tr>\n",
       "    <tr>\n",
       "      <th>136045</th>\n",
       "      <td>Islamic State of Iraq and the Levant (ISIL)</td>\n",
       "      <td>500.0</td>\n",
       "      <td>Hostage Taking (Kidnapping)</td>\n",
       "    </tr>\n",
       "    <tr>\n",
       "      <th>27719</th>\n",
       "      <td>Islamic State of Iraq and the Levant (ISIL)</td>\n",
       "      <td>421.0</td>\n",
       "      <td>Hostage Taking (Kidnapping)</td>\n",
       "    </tr>\n",
       "    <tr>\n",
       "      <th>21920</th>\n",
       "      <td>Islamic State of Iraq and the Levant (ISIL)</td>\n",
       "      <td>383.0</td>\n",
       "      <td>Bombing/Explosion</td>\n",
       "    </tr>\n",
       "    <tr>\n",
       "      <th>134879</th>\n",
       "      <td>Islamic State of Iraq and the Levant (ISIL)</td>\n",
       "      <td>310.0</td>\n",
       "      <td>Hostage Taking (Kidnapping)</td>\n",
       "    </tr>\n",
       "    <tr>\n",
       "      <th>4304</th>\n",
       "      <td>Islamic State of Iraq and the Levant (ISIL)</td>\n",
       "      <td>300.0</td>\n",
       "      <td>Hostage Taking (Kidnapping)</td>\n",
       "    </tr>\n",
       "    <tr>\n",
       "      <th>16286</th>\n",
       "      <td>Islamic State of Iraq and the Levant (ISIL)</td>\n",
       "      <td>300.0</td>\n",
       "      <td>Hostage Taking (Kidnapping)</td>\n",
       "    </tr>\n",
       "    <tr>\n",
       "      <th>25927</th>\n",
       "      <td>Islamic State of Iraq and the Levant (ISIL)</td>\n",
       "      <td>284.0</td>\n",
       "      <td>Hostage Taking (Kidnapping)</td>\n",
       "    </tr>\n",
       "    <tr>\n",
       "      <th>6055</th>\n",
       "      <td>Islamic State of Iraq and the Levant (ISIL)</td>\n",
       "      <td>280.0</td>\n",
       "      <td>Hostage Taking (Kidnapping)</td>\n",
       "    </tr>\n",
       "    <tr>\n",
       "      <th>19054</th>\n",
       "      <td>Islamic State of Iraq and the Levant (ISIL)</td>\n",
       "      <td>250.0</td>\n",
       "      <td>Hostage Taking (Kidnapping)</td>\n",
       "    </tr>\n",
       "    <tr>\n",
       "      <th>26074</th>\n",
       "      <td>Islamic State of Iraq and the Levant (ISIL)</td>\n",
       "      <td>190.0</td>\n",
       "      <td>Hostage Taking (Kidnapping)</td>\n",
       "    </tr>\n",
       "    <tr>\n",
       "      <th>7461</th>\n",
       "      <td>Islamic State of Iraq and the Levant (ISIL)</td>\n",
       "      <td>174.0</td>\n",
       "      <td>Bombing/Explosion</td>\n",
       "    </tr>\n",
       "    <tr>\n",
       "      <th>137216</th>\n",
       "      <td>Islamic State of Iraq and the Levant (ISIL)</td>\n",
       "      <td>150.0</td>\n",
       "      <td>Hostage Taking (Kidnapping)</td>\n",
       "    </tr>\n",
       "    <tr>\n",
       "      <th>141367</th>\n",
       "      <td>Islamic State of Iraq and the Levant (ISIL)</td>\n",
       "      <td>150.0</td>\n",
       "      <td>Hostage Taking (Kidnapping)</td>\n",
       "    </tr>\n",
       "    <tr>\n",
       "      <th>139513</th>\n",
       "      <td>Islamic State of Iraq and the Levant (ISIL)</td>\n",
       "      <td>150.0</td>\n",
       "      <td>Hostage Taking (Kidnapping)</td>\n",
       "    </tr>\n",
       "    <tr>\n",
       "      <th>27363</th>\n",
       "      <td>Islamic State of Iraq and the Levant (ISIL)</td>\n",
       "      <td>130.0</td>\n",
       "      <td>Hostage Taking (Kidnapping)</td>\n",
       "    </tr>\n",
       "    <tr>\n",
       "      <th>8423</th>\n",
       "      <td>Islamic State of Iraq and the Levant (ISIL)</td>\n",
       "      <td>121.0</td>\n",
       "      <td>Bombing/Explosion</td>\n",
       "    </tr>\n",
       "    <tr>\n",
       "      <th>135671</th>\n",
       "      <td>Islamic State of Iraq and the Levant (ISIL)</td>\n",
       "      <td>114.0</td>\n",
       "      <td>Armed Assault</td>\n",
       "    </tr>\n",
       "  </tbody>\n",
       "</table>\n",
       "</div>"
      ],
      "text/plain": [
       "                                              gname   nkill  \\\n",
       "133286  Islamic State of Iraq and the Levant (ISIL)  1500.0   \n",
       "132993  Islamic State of Iraq and the Levant (ISIL)   670.0   \n",
       "136503  Islamic State of Iraq and the Levant (ISIL)   517.0   \n",
       "136045  Islamic State of Iraq and the Levant (ISIL)   500.0   \n",
       "27719   Islamic State of Iraq and the Levant (ISIL)   421.0   \n",
       "21920   Islamic State of Iraq and the Levant (ISIL)   383.0   \n",
       "134879  Islamic State of Iraq and the Levant (ISIL)   310.0   \n",
       "4304    Islamic State of Iraq and the Levant (ISIL)   300.0   \n",
       "16286   Islamic State of Iraq and the Levant (ISIL)   300.0   \n",
       "25927   Islamic State of Iraq and the Levant (ISIL)   284.0   \n",
       "6055    Islamic State of Iraq and the Levant (ISIL)   280.0   \n",
       "19054   Islamic State of Iraq and the Levant (ISIL)   250.0   \n",
       "26074   Islamic State of Iraq and the Levant (ISIL)   190.0   \n",
       "7461    Islamic State of Iraq and the Levant (ISIL)   174.0   \n",
       "137216  Islamic State of Iraq and the Levant (ISIL)   150.0   \n",
       "141367  Islamic State of Iraq and the Levant (ISIL)   150.0   \n",
       "139513  Islamic State of Iraq and the Levant (ISIL)   150.0   \n",
       "27363   Islamic State of Iraq and the Levant (ISIL)   130.0   \n",
       "8423    Islamic State of Iraq and the Levant (ISIL)   121.0   \n",
       "135671  Islamic State of Iraq and the Levant (ISIL)   114.0   \n",
       "\n",
       "                    attacktype1_txt  \n",
       "133286  Hostage Taking (Kidnapping)  \n",
       "132993                Armed Assault  \n",
       "136503  Hostage Taking (Kidnapping)  \n",
       "136045  Hostage Taking (Kidnapping)  \n",
       "27719   Hostage Taking (Kidnapping)  \n",
       "21920             Bombing/Explosion  \n",
       "134879  Hostage Taking (Kidnapping)  \n",
       "4304    Hostage Taking (Kidnapping)  \n",
       "16286   Hostage Taking (Kidnapping)  \n",
       "25927   Hostage Taking (Kidnapping)  \n",
       "6055    Hostage Taking (Kidnapping)  \n",
       "19054   Hostage Taking (Kidnapping)  \n",
       "26074   Hostage Taking (Kidnapping)  \n",
       "7461              Bombing/Explosion  \n",
       "137216  Hostage Taking (Kidnapping)  \n",
       "141367  Hostage Taking (Kidnapping)  \n",
       "139513  Hostage Taking (Kidnapping)  \n",
       "27363   Hostage Taking (Kidnapping)  \n",
       "8423              Bombing/Explosion  \n",
       "135671                Armed Assault  "
      ]
     },
     "execution_count": 36,
     "metadata": {},
     "output_type": "execute_result"
    }
   ],
   "source": [
    "df[(df.iyear > 2006)&(df.gname=='Islamic State of Iraq and the Levant (ISIL)')].sort_values('nkill', ascending=False)[['gname','nkill','attacktype1_txt']][:20]"
   ]
  },
  {
   "cell_type": "markdown",
   "metadata": {},
   "source": [
    "### Deadliest attacks in last 10 years"
   ]
  },
  {
   "cell_type": "code",
   "execution_count": 40,
   "metadata": {
    "collapsed": false
   },
   "outputs": [
    {
     "data": {
      "text/html": [
       "<div>\n",
       "<table border=\"1\" class=\"dataframe\">\n",
       "  <thead>\n",
       "    <tr style=\"text-align: right;\">\n",
       "      <th></th>\n",
       "      <th>iyear</th>\n",
       "      <th>imonth</th>\n",
       "      <th>iday</th>\n",
       "      <th>gname</th>\n",
       "      <th>nkill</th>\n",
       "      <th>attacktype1_txt</th>\n",
       "    </tr>\n",
       "  </thead>\n",
       "  <tbody>\n",
       "    <tr>\n",
       "      <th>133286</th>\n",
       "      <td>2014</td>\n",
       "      <td>6</td>\n",
       "      <td>12</td>\n",
       "      <td>Islamic State of Iraq and the Levant (ISIL)</td>\n",
       "      <td>1500.0</td>\n",
       "      <td>Hostage Taking (Kidnapping)</td>\n",
       "    </tr>\n",
       "    <tr>\n",
       "      <th>132993</th>\n",
       "      <td>2014</td>\n",
       "      <td>6</td>\n",
       "      <td>10</td>\n",
       "      <td>Islamic State of Iraq and the Levant (ISIL)</td>\n",
       "      <td>670.0</td>\n",
       "      <td>Armed Assault</td>\n",
       "    </tr>\n",
       "    <tr>\n",
       "      <th>136503</th>\n",
       "      <td>2014</td>\n",
       "      <td>8</td>\n",
       "      <td>19</td>\n",
       "      <td>Islamic State of Iraq and the Levant (ISIL)</td>\n",
       "      <td>517.0</td>\n",
       "      <td>Hostage Taking (Kidnapping)</td>\n",
       "    </tr>\n",
       "    <tr>\n",
       "      <th>136045</th>\n",
       "      <td>2014</td>\n",
       "      <td>8</td>\n",
       "      <td>3</td>\n",
       "      <td>Islamic State of Iraq and the Levant (ISIL)</td>\n",
       "      <td>500.0</td>\n",
       "      <td>Hostage Taking (Kidnapping)</td>\n",
       "    </tr>\n",
       "    <tr>\n",
       "      <th>27719</th>\n",
       "      <td>2016</td>\n",
       "      <td>12</td>\n",
       "      <td>10</td>\n",
       "      <td>Islamic State of Iraq and the Levant (ISIL)</td>\n",
       "      <td>421.0</td>\n",
       "      <td>Hostage Taking (Kidnapping)</td>\n",
       "    </tr>\n",
       "    <tr>\n",
       "      <th>90276</th>\n",
       "      <td>2009</td>\n",
       "      <td>1</td>\n",
       "      <td>17</td>\n",
       "      <td>Lord's Resistance Army (LRA)</td>\n",
       "      <td>400.0</td>\n",
       "      <td>Facility/Infrastructure Attack</td>\n",
       "    </tr>\n",
       "    <tr>\n",
       "      <th>21920</th>\n",
       "      <td>2016</td>\n",
       "      <td>7</td>\n",
       "      <td>3</td>\n",
       "      <td>Islamic State of Iraq and the Levant (ISIL)</td>\n",
       "      <td>383.0</td>\n",
       "      <td>Bombing/Explosion</td>\n",
       "    </tr>\n",
       "    <tr>\n",
       "      <th>131118</th>\n",
       "      <td>2014</td>\n",
       "      <td>5</td>\n",
       "      <td>5</td>\n",
       "      <td>Boko Haram</td>\n",
       "      <td>315.0</td>\n",
       "      <td>Armed Assault</td>\n",
       "    </tr>\n",
       "    <tr>\n",
       "      <th>134879</th>\n",
       "      <td>2014</td>\n",
       "      <td>7</td>\n",
       "      <td>17</td>\n",
       "      <td>Islamic State of Iraq and the Levant (ISIL)</td>\n",
       "      <td>310.0</td>\n",
       "      <td>Hostage Taking (Kidnapping)</td>\n",
       "    </tr>\n",
       "    <tr>\n",
       "      <th>4304</th>\n",
       "      <td>2015</td>\n",
       "      <td>4</td>\n",
       "      <td>9</td>\n",
       "      <td>Islamic State of Iraq and the Levant (ISIL)</td>\n",
       "      <td>300.0</td>\n",
       "      <td>Hostage Taking (Kidnapping)</td>\n",
       "    </tr>\n",
       "    <tr>\n",
       "      <th>16286</th>\n",
       "      <td>2016</td>\n",
       "      <td>2</td>\n",
       "      <td>7</td>\n",
       "      <td>Islamic State of Iraq and the Levant (ISIL)</td>\n",
       "      <td>300.0</td>\n",
       "      <td>Hostage Taking (Kidnapping)</td>\n",
       "    </tr>\n",
       "    <tr>\n",
       "      <th>134889</th>\n",
       "      <td>2014</td>\n",
       "      <td>7</td>\n",
       "      <td>17</td>\n",
       "      <td>Donetsk People's Republic</td>\n",
       "      <td>298.0</td>\n",
       "      <td>Bombing/Explosion</td>\n",
       "    </tr>\n",
       "    <tr>\n",
       "      <th>130195</th>\n",
       "      <td>2014</td>\n",
       "      <td>4</td>\n",
       "      <td>15</td>\n",
       "      <td>Sudan People's Liberation Movement in Oppositi...</td>\n",
       "      <td>287.0</td>\n",
       "      <td>Hostage Taking (Kidnapping)</td>\n",
       "    </tr>\n",
       "    <tr>\n",
       "      <th>25927</th>\n",
       "      <td>2016</td>\n",
       "      <td>10</td>\n",
       "      <td>21</td>\n",
       "      <td>Islamic State of Iraq and the Levant (ISIL)</td>\n",
       "      <td>284.0</td>\n",
       "      <td>Hostage Taking (Kidnapping)</td>\n",
       "    </tr>\n",
       "    <tr>\n",
       "      <th>23750</th>\n",
       "      <td>2016</td>\n",
       "      <td>8</td>\n",
       "      <td>19</td>\n",
       "      <td>Sudan People's Liberation Movement in Oppositi...</td>\n",
       "      <td>283.0</td>\n",
       "      <td>Armed Assault</td>\n",
       "    </tr>\n",
       "    <tr>\n",
       "      <th>6055</th>\n",
       "      <td>2015</td>\n",
       "      <td>5</td>\n",
       "      <td>21</td>\n",
       "      <td>Islamic State of Iraq and the Levant (ISIL)</td>\n",
       "      <td>280.0</td>\n",
       "      <td>Hostage Taking (Kidnapping)</td>\n",
       "    </tr>\n",
       "    <tr>\n",
       "      <th>83902</th>\n",
       "      <td>2007</td>\n",
       "      <td>8</td>\n",
       "      <td>14</td>\n",
       "      <td>Al-Qaida in Iraq</td>\n",
       "      <td>250.0</td>\n",
       "      <td>Bombing/Explosion</td>\n",
       "    </tr>\n",
       "    <tr>\n",
       "      <th>83910</th>\n",
       "      <td>2007</td>\n",
       "      <td>8</td>\n",
       "      <td>14</td>\n",
       "      <td>Al-Qaida in Iraq</td>\n",
       "      <td>250.0</td>\n",
       "      <td>Bombing/Explosion</td>\n",
       "    </tr>\n",
       "    <tr>\n",
       "      <th>19054</th>\n",
       "      <td>2016</td>\n",
       "      <td>4</td>\n",
       "      <td>21</td>\n",
       "      <td>Islamic State of Iraq and the Levant (ISIL)</td>\n",
       "      <td>250.0</td>\n",
       "      <td>Hostage Taking (Kidnapping)</td>\n",
       "    </tr>\n",
       "    <tr>\n",
       "      <th>11240</th>\n",
       "      <td>2015</td>\n",
       "      <td>9</td>\n",
       "      <td>28</td>\n",
       "      <td>Taliban</td>\n",
       "      <td>240.0</td>\n",
       "      <td>Armed Assault</td>\n",
       "    </tr>\n",
       "  </tbody>\n",
       "</table>\n",
       "</div>"
      ],
      "text/plain": [
       "        iyear  imonth  iday  \\\n",
       "133286   2014       6    12   \n",
       "132993   2014       6    10   \n",
       "136503   2014       8    19   \n",
       "136045   2014       8     3   \n",
       "27719    2016      12    10   \n",
       "90276    2009       1    17   \n",
       "21920    2016       7     3   \n",
       "131118   2014       5     5   \n",
       "134879   2014       7    17   \n",
       "4304     2015       4     9   \n",
       "16286    2016       2     7   \n",
       "134889   2014       7    17   \n",
       "130195   2014       4    15   \n",
       "25927    2016      10    21   \n",
       "23750    2016       8    19   \n",
       "6055     2015       5    21   \n",
       "83902    2007       8    14   \n",
       "83910    2007       8    14   \n",
       "19054    2016       4    21   \n",
       "11240    2015       9    28   \n",
       "\n",
       "                                                    gname   nkill  \\\n",
       "133286        Islamic State of Iraq and the Levant (ISIL)  1500.0   \n",
       "132993        Islamic State of Iraq and the Levant (ISIL)   670.0   \n",
       "136503        Islamic State of Iraq and the Levant (ISIL)   517.0   \n",
       "136045        Islamic State of Iraq and the Levant (ISIL)   500.0   \n",
       "27719         Islamic State of Iraq and the Levant (ISIL)   421.0   \n",
       "90276                        Lord's Resistance Army (LRA)   400.0   \n",
       "21920         Islamic State of Iraq and the Levant (ISIL)   383.0   \n",
       "131118                                         Boko Haram   315.0   \n",
       "134879        Islamic State of Iraq and the Levant (ISIL)   310.0   \n",
       "4304          Islamic State of Iraq and the Levant (ISIL)   300.0   \n",
       "16286         Islamic State of Iraq and the Levant (ISIL)   300.0   \n",
       "134889                          Donetsk People's Republic   298.0   \n",
       "130195  Sudan People's Liberation Movement in Oppositi...   287.0   \n",
       "25927         Islamic State of Iraq and the Levant (ISIL)   284.0   \n",
       "23750   Sudan People's Liberation Movement in Oppositi...   283.0   \n",
       "6055          Islamic State of Iraq and the Levant (ISIL)   280.0   \n",
       "83902                                    Al-Qaida in Iraq   250.0   \n",
       "83910                                    Al-Qaida in Iraq   250.0   \n",
       "19054         Islamic State of Iraq and the Levant (ISIL)   250.0   \n",
       "11240                                             Taliban   240.0   \n",
       "\n",
       "                       attacktype1_txt  \n",
       "133286     Hostage Taking (Kidnapping)  \n",
       "132993                   Armed Assault  \n",
       "136503     Hostage Taking (Kidnapping)  \n",
       "136045     Hostage Taking (Kidnapping)  \n",
       "27719      Hostage Taking (Kidnapping)  \n",
       "90276   Facility/Infrastructure Attack  \n",
       "21920                Bombing/Explosion  \n",
       "131118                   Armed Assault  \n",
       "134879     Hostage Taking (Kidnapping)  \n",
       "4304       Hostage Taking (Kidnapping)  \n",
       "16286      Hostage Taking (Kidnapping)  \n",
       "134889               Bombing/Explosion  \n",
       "130195     Hostage Taking (Kidnapping)  \n",
       "25927      Hostage Taking (Kidnapping)  \n",
       "23750                    Armed Assault  \n",
       "6055       Hostage Taking (Kidnapping)  \n",
       "83902                Bombing/Explosion  \n",
       "83910                Bombing/Explosion  \n",
       "19054      Hostage Taking (Kidnapping)  \n",
       "11240                    Armed Assault  "
      ]
     },
     "execution_count": 40,
     "metadata": {},
     "output_type": "execute_result"
    }
   ],
   "source": [
    "df[(df.iyear > 2006)].sort_values('nkill', ascending=False)[['iyear','imonth','iday','gname','nkill','attacktype1_txt']][:20]"
   ]
  },
  {
   "cell_type": "markdown",
   "metadata": {},
   "source": [
    "### Deadliest attacks by genre (last 10 years)"
   ]
  },
  {
   "cell_type": "markdown",
   "metadata": {},
   "source": [
    "#### Cumulatively deadliest type of attack, past 10 years"
   ]
  },
  {
   "cell_type": "code",
   "execution_count": 53,
   "metadata": {
    "collapsed": false
   },
   "outputs": [
    {
     "data": {
      "text/plain": [
       "<matplotlib.text.Text at 0x1145f2f10>"
      ]
     },
     "execution_count": 53,
     "metadata": {},
     "output_type": "execute_result"
    },
    {
     "data": {
      "image/png": "[encoded data removed]",
      "text/plain": [
       "<matplotlib.figure.Figure at 0x113e46310>"
      ]
     },
     "metadata": {},
     "output_type": "display_data"
    }
   ],
   "source": [
    "df[(df.iyear > 2006)].groupby('attacktype1_txt').nkill.sum().sort_values(ascending=False).plot(kind='bar')\n",
    "plt.title(\"Deadliest type of attack: cumulative deaths since 2006\")"
   ]
  },
  {
   "cell_type": "code",
   "execution_count": 54,
   "metadata": {
    "collapsed": false
   },
   "outputs": [
    {
     "data": {
      "text/plain": [
       "attacktype1_txt\n",
       "Bombing/Explosion                      96997.60\n",
       "Armed Assault                          61552.97\n",
       "Hostage Taking (Kidnapping)            18026.25\n",
       "Unknown                                14877.84\n",
       "Assassination                           6412.33\n",
       "Hostage Taking (Barricade Incident)     1747.00\n",
       "Facility/Infrastructure Attack          1522.01\n",
       "Hijacking                                144.00\n",
       "Unarmed Assault                          140.00\n",
       "Name: nkill, dtype: float64"
      ]
     },
     "execution_count": 54,
     "metadata": {},
     "output_type": "execute_result"
    }
   ],
   "source": [
    "df[(df.iyear > 2006)].groupby('attacktype1_txt').nkill.sum().sort_values(ascending=False)"
   ]
  },
  {
   "cell_type": "markdown",
   "metadata": {},
   "source": [
    "#### Kind of attack with highest number of deaths per attack"
   ]
  },
  {
   "cell_type": "code",
   "execution_count": 61,
   "metadata": {
    "collapsed": false
   },
   "outputs": [
    {
     "data": {
      "text/plain": [
       "attacktype1_txt\n",
       "Hostage Taking (Barricade Incident)    7.434043\n",
       "Unknown                                4.832036\n",
       "Hostage Taking (Kidnapping)            3.902630\n",
       "Armed Assault                          3.026798\n",
       "Bombing/Explosion                      2.080377\n",
       "Assassination                          1.226301\n",
       "Hijacking                              0.774194\n",
       "Unarmed Assault                        0.382514\n",
       "Facility/Infrastructure Attack         0.359898\n",
       "Name: nkill, dtype: float64"
      ]
     },
     "execution_count": 61,
     "metadata": {},
     "output_type": "execute_result"
    }
   ],
   "source": [
    "df[(df.iyear > 2006)].groupby('attacktype1_txt').nkill.mean().sort_values(ascending=False)"
   ]
  },
  {
   "cell_type": "code",
   "execution_count": 55,
   "metadata": {
    "collapsed": false
   },
   "outputs": [
    {
     "data": {
      "text/html": [
       "<div>\n",
       "<table border=\"1\" class=\"dataframe\">\n",
       "  <thead>\n",
       "    <tr style=\"text-align: right;\">\n",
       "      <th></th>\n",
       "      <th>iyear</th>\n",
       "      <th>imonth</th>\n",
       "      <th>iday</th>\n",
       "      <th>gname</th>\n",
       "      <th>nkill</th>\n",
       "      <th>attacktype1_txt</th>\n",
       "    </tr>\n",
       "  </thead>\n",
       "  <tbody>\n",
       "    <tr>\n",
       "      <th>133286</th>\n",
       "      <td>2014</td>\n",
       "      <td>6</td>\n",
       "      <td>12</td>\n",
       "      <td>Islamic State of Iraq and the Levant (ISIL)</td>\n",
       "      <td>1500.0</td>\n",
       "      <td>Hostage Taking (Kidnapping)</td>\n",
       "    </tr>\n",
       "    <tr>\n",
       "      <th>132993</th>\n",
       "      <td>2014</td>\n",
       "      <td>6</td>\n",
       "      <td>10</td>\n",
       "      <td>Islamic State of Iraq and the Levant (ISIL)</td>\n",
       "      <td>670.0</td>\n",
       "      <td>Armed Assault</td>\n",
       "    </tr>\n",
       "    <tr>\n",
       "      <th>136503</th>\n",
       "      <td>2014</td>\n",
       "      <td>8</td>\n",
       "      <td>19</td>\n",
       "      <td>Islamic State of Iraq and the Levant (ISIL)</td>\n",
       "      <td>517.0</td>\n",
       "      <td>Hostage Taking (Kidnapping)</td>\n",
       "    </tr>\n",
       "    <tr>\n",
       "      <th>136045</th>\n",
       "      <td>2014</td>\n",
       "      <td>8</td>\n",
       "      <td>3</td>\n",
       "      <td>Islamic State of Iraq and the Levant (ISIL)</td>\n",
       "      <td>500.0</td>\n",
       "      <td>Hostage Taking (Kidnapping)</td>\n",
       "    </tr>\n",
       "    <tr>\n",
       "      <th>27719</th>\n",
       "      <td>2016</td>\n",
       "      <td>12</td>\n",
       "      <td>10</td>\n",
       "      <td>Islamic State of Iraq and the Levant (ISIL)</td>\n",
       "      <td>421.0</td>\n",
       "      <td>Hostage Taking (Kidnapping)</td>\n",
       "    </tr>\n",
       "    <tr>\n",
       "      <th>90276</th>\n",
       "      <td>2009</td>\n",
       "      <td>1</td>\n",
       "      <td>17</td>\n",
       "      <td>Lord's Resistance Army (LRA)</td>\n",
       "      <td>400.0</td>\n",
       "      <td>Facility/Infrastructure Attack</td>\n",
       "    </tr>\n",
       "    <tr>\n",
       "      <th>21920</th>\n",
       "      <td>2016</td>\n",
       "      <td>7</td>\n",
       "      <td>3</td>\n",
       "      <td>Islamic State of Iraq and the Levant (ISIL)</td>\n",
       "      <td>383.0</td>\n",
       "      <td>Bombing/Explosion</td>\n",
       "    </tr>\n",
       "    <tr>\n",
       "      <th>131118</th>\n",
       "      <td>2014</td>\n",
       "      <td>5</td>\n",
       "      <td>5</td>\n",
       "      <td>Boko Haram</td>\n",
       "      <td>315.0</td>\n",
       "      <td>Armed Assault</td>\n",
       "    </tr>\n",
       "    <tr>\n",
       "      <th>134879</th>\n",
       "      <td>2014</td>\n",
       "      <td>7</td>\n",
       "      <td>17</td>\n",
       "      <td>Islamic State of Iraq and the Levant (ISIL)</td>\n",
       "      <td>310.0</td>\n",
       "      <td>Hostage Taking (Kidnapping)</td>\n",
       "    </tr>\n",
       "    <tr>\n",
       "      <th>4304</th>\n",
       "      <td>2015</td>\n",
       "      <td>4</td>\n",
       "      <td>9</td>\n",
       "      <td>Islamic State of Iraq and the Levant (ISIL)</td>\n",
       "      <td>300.0</td>\n",
       "      <td>Hostage Taking (Kidnapping)</td>\n",
       "    </tr>\n",
       "    <tr>\n",
       "      <th>16286</th>\n",
       "      <td>2016</td>\n",
       "      <td>2</td>\n",
       "      <td>7</td>\n",
       "      <td>Islamic State of Iraq and the Levant (ISIL)</td>\n",
       "      <td>300.0</td>\n",
       "      <td>Hostage Taking (Kidnapping)</td>\n",
       "    </tr>\n",
       "    <tr>\n",
       "      <th>134889</th>\n",
       "      <td>2014</td>\n",
       "      <td>7</td>\n",
       "      <td>17</td>\n",
       "      <td>Donetsk People's Republic</td>\n",
       "      <td>298.0</td>\n",
       "      <td>Bombing/Explosion</td>\n",
       "    </tr>\n",
       "    <tr>\n",
       "      <th>130195</th>\n",
       "      <td>2014</td>\n",
       "      <td>4</td>\n",
       "      <td>15</td>\n",
       "      <td>Sudan People's Liberation Movement in Oppositi...</td>\n",
       "      <td>287.0</td>\n",
       "      <td>Hostage Taking (Kidnapping)</td>\n",
       "    </tr>\n",
       "    <tr>\n",
       "      <th>25927</th>\n",
       "      <td>2016</td>\n",
       "      <td>10</td>\n",
       "      <td>21</td>\n",
       "      <td>Islamic State of Iraq and the Levant (ISIL)</td>\n",
       "      <td>284.0</td>\n",
       "      <td>Hostage Taking (Kidnapping)</td>\n",
       "    </tr>\n",
       "    <tr>\n",
       "      <th>23750</th>\n",
       "      <td>2016</td>\n",
       "      <td>8</td>\n",
       "      <td>19</td>\n",
       "      <td>Sudan People's Liberation Movement in Oppositi...</td>\n",
       "      <td>283.0</td>\n",
       "      <td>Armed Assault</td>\n",
       "    </tr>\n",
       "    <tr>\n",
       "      <th>6055</th>\n",
       "      <td>2015</td>\n",
       "      <td>5</td>\n",
       "      <td>21</td>\n",
       "      <td>Islamic State of Iraq and the Levant (ISIL)</td>\n",
       "      <td>280.0</td>\n",
       "      <td>Hostage Taking (Kidnapping)</td>\n",
       "    </tr>\n",
       "    <tr>\n",
       "      <th>83902</th>\n",
       "      <td>2007</td>\n",
       "      <td>8</td>\n",
       "      <td>14</td>\n",
       "      <td>Al-Qaida in Iraq</td>\n",
       "      <td>250.0</td>\n",
       "      <td>Bombing/Explosion</td>\n",
       "    </tr>\n",
       "    <tr>\n",
       "      <th>83910</th>\n",
       "      <td>2007</td>\n",
       "      <td>8</td>\n",
       "      <td>14</td>\n",
       "      <td>Al-Qaida in Iraq</td>\n",
       "      <td>250.0</td>\n",
       "      <td>Bombing/Explosion</td>\n",
       "    </tr>\n",
       "    <tr>\n",
       "      <th>19054</th>\n",
       "      <td>2016</td>\n",
       "      <td>4</td>\n",
       "      <td>21</td>\n",
       "      <td>Islamic State of Iraq and the Levant (ISIL)</td>\n",
       "      <td>250.0</td>\n",
       "      <td>Hostage Taking (Kidnapping)</td>\n",
       "    </tr>\n",
       "    <tr>\n",
       "      <th>11240</th>\n",
       "      <td>2015</td>\n",
       "      <td>9</td>\n",
       "      <td>28</td>\n",
       "      <td>Taliban</td>\n",
       "      <td>240.0</td>\n",
       "      <td>Armed Assault</td>\n",
       "    </tr>\n",
       "  </tbody>\n",
       "</table>\n",
       "</div>"
      ],
      "text/plain": [
       "        iyear  imonth  iday  \\\n",
       "133286   2014       6    12   \n",
       "132993   2014       6    10   \n",
       "136503   2014       8    19   \n",
       "136045   2014       8     3   \n",
       "27719    2016      12    10   \n",
       "90276    2009       1    17   \n",
       "21920    2016       7     3   \n",
       "131118   2014       5     5   \n",
       "134879   2014       7    17   \n",
       "4304     2015       4     9   \n",
       "16286    2016       2     7   \n",
       "134889   2014       7    17   \n",
       "130195   2014       4    15   \n",
       "25927    2016      10    21   \n",
       "23750    2016       8    19   \n",
       "6055     2015       5    21   \n",
       "83902    2007       8    14   \n",
       "83910    2007       8    14   \n",
       "19054    2016       4    21   \n",
       "11240    2015       9    28   \n",
       "\n",
       "                                                    gname   nkill  \\\n",
       "133286        Islamic State of Iraq and the Levant (ISIL)  1500.0   \n",
       "132993        Islamic State of Iraq and the Levant (ISIL)   670.0   \n",
       "136503        Islamic State of Iraq and the Levant (ISIL)   517.0   \n",
       "136045        Islamic State of Iraq and the Levant (ISIL)   500.0   \n",
       "27719         Islamic State of Iraq and the Levant (ISIL)   421.0   \n",
       "90276                        Lord's Resistance Army (LRA)   400.0   \n",
       "21920         Islamic State of Iraq and the Levant (ISIL)   383.0   \n",
       "131118                                         Boko Haram   315.0   \n",
       "134879        Islamic State of Iraq and the Levant (ISIL)   310.0   \n",
       "4304          Islamic State of Iraq and the Levant (ISIL)   300.0   \n",
       "16286         Islamic State of Iraq and the Levant (ISIL)   300.0   \n",
       "134889                          Donetsk People's Republic   298.0   \n",
       "130195  Sudan People's Liberation Movement in Oppositi...   287.0   \n",
       "25927         Islamic State of Iraq and the Levant (ISIL)   284.0   \n",
       "23750   Sudan People's Liberation Movement in Oppositi...   283.0   \n",
       "6055          Islamic State of Iraq and the Levant (ISIL)   280.0   \n",
       "83902                                    Al-Qaida in Iraq   250.0   \n",
       "83910                                    Al-Qaida in Iraq   250.0   \n",
       "19054         Islamic State of Iraq and the Levant (ISIL)   250.0   \n",
       "11240                                             Taliban   240.0   \n",
       "\n",
       "                       attacktype1_txt  \n",
       "133286     Hostage Taking (Kidnapping)  \n",
       "132993                   Armed Assault  \n",
       "136503     Hostage Taking (Kidnapping)  \n",
       "136045     Hostage Taking (Kidnapping)  \n",
       "27719      Hostage Taking (Kidnapping)  \n",
       "90276   Facility/Infrastructure Attack  \n",
       "21920                Bombing/Explosion  \n",
       "131118                   Armed Assault  \n",
       "134879     Hostage Taking (Kidnapping)  \n",
       "4304       Hostage Taking (Kidnapping)  \n",
       "16286      Hostage Taking (Kidnapping)  \n",
       "134889               Bombing/Explosion  \n",
       "130195     Hostage Taking (Kidnapping)  \n",
       "25927      Hostage Taking (Kidnapping)  \n",
       "23750                    Armed Assault  \n",
       "6055       Hostage Taking (Kidnapping)  \n",
       "83902                Bombing/Explosion  \n",
       "83910                Bombing/Explosion  \n",
       "19054      Hostage Taking (Kidnapping)  \n",
       "11240                    Armed Assault  "
      ]
     },
     "execution_count": 55,
     "metadata": {},
     "output_type": "execute_result"
    }
   ],
   "source": [
    "df[(df.iyear > 2006)].sort_values('nkill', ascending=False)[['iyear','imonth','iday','gname','nkill','attacktype1_txt']][:20]"
   ]
  },
  {
   "cell_type": "code",
   "execution_count": 54,
   "metadata": {
    "collapsed": false
   },
   "outputs": [
    {
     "data": {
      "text/plain": [
       "attacktype1_txt\n",
       "Bombing/Explosion                      96997.60\n",
       "Armed Assault                          61552.97\n",
       "Hostage Taking (Kidnapping)            18026.25\n",
       "Unknown                                14877.84\n",
       "Assassination                           6412.33\n",
       "Hostage Taking (Barricade Incident)     1747.00\n",
       "Facility/Infrastructure Attack          1522.01\n",
       "Hijacking                                144.00\n",
       "Unarmed Assault                          140.00\n",
       "Name: nkill, dtype: float64"
      ]
     },
     "execution_count": 54,
     "metadata": {},
     "output_type": "execute_result"
    }
   ],
   "source": [
    "df[(df.iyear > 2006)].groupby('attacktype1_txt').nkill.sum().sort_values(ascending=False)"
   ]
  },
  {
   "cell_type": "markdown",
   "metadata": {},
   "source": [
    "### Deadliest group (last 10 years)"
   ]
  },
  {
   "cell_type": "code",
   "execution_count": 68,
   "metadata": {
    "collapsed": false
   },
   "outputs": [
    {
     "data": {
      "text/plain": [
       "gname\n",
       "Unknown                                        60655.67\n",
       "Islamic State of Iraq and the Levant (ISIL)    30815.33\n",
       "Taliban                                        23289.00\n",
       "Boko Haram                                     18530.00\n",
       "Al-Shabaab                                      7339.00\n",
       "Tehrik-i-Taliban Pakistan (TTP)                 5685.00\n",
       "Al-Qaida in Iraq                                3382.80\n",
       "Al-Qaida in the Arabian Peninsula (AQAP)        3353.00\n",
       "Al-Nusrah Front                                 2954.00\n",
       "Fulani Militants                                2727.00\n",
       "Name: nkill, dtype: float64"
      ]
     },
     "execution_count": 68,
     "metadata": {},
     "output_type": "execute_result"
    }
   ],
   "source": [
    "df[(df.iyear > 2006)].groupby('gname').nkill.sum().sort_values(ascending=False)[:10]"
   ]
  },
  {
   "cell_type": "markdown",
   "metadata": {},
   "source": [
    "### Deadliest group 2016"
   ]
  },
  {
   "cell_type": "code",
   "execution_count": 71,
   "metadata": {
    "collapsed": false
   },
   "outputs": [
    {
     "data": {
      "text/plain": [
       "gname\n",
       "Islamic State of Iraq and the Levant (ISIL)                   11570.0\n",
       "Unknown                                                        5666.0\n",
       "Taliban                                                        5025.0\n",
       "Al-Shabaab                                                     1535.0\n",
       "Boko Haram                                                     1437.0\n",
       "Huthi Extremists                                                856.0\n",
       "Fulani Militants                                                819.0\n",
       "Khorasan Chapter of the Islamic State                           664.0\n",
       "Kurdistan Workers' Party (PKK)                                  583.0\n",
       "Sudan People's Liberation Movement in Opposition (SPLM-IO)      404.0\n",
       "Name: nkill, dtype: float64"
      ]
     },
     "execution_count": 71,
     "metadata": {},
     "output_type": "execute_result"
    }
   ],
   "source": [
    "df[(df.iyear > 2015)].groupby('gname').nkill.sum().sort_values(ascending=False)[:10]"
   ]
  },
  {
   "cell_type": "markdown",
   "metadata": {},
   "source": [
    "### Deadliest group on average (too few rows)"
   ]
  },
  {
   "cell_type": "code",
   "execution_count": 72,
   "metadata": {
    "collapsed": false
   },
   "outputs": [
    {
     "data": {
      "text/plain": [
       "gname\n",
       "Ansar al-Din Front                                                          103.000000\n",
       "Agwelek Forces                                                               56.000000\n",
       "Kata'ib Hezbollah                                                            49.000000\n",
       "Jaish al-Sunnah                                                              43.000000\n",
       "Popular Front for the Renaissance of the Central African Republic (FPRC)     42.500000\n",
       "Islamic Movement for the Liberation of Raja                                  42.000000\n",
       "Liwa al-Haqq                                                                 40.000000\n",
       "Tehrik-e-Taliban Islami (TTI)                                                40.000000\n",
       "David Yau Yau Militia                                                        36.333333\n",
       "Kokang                                                                       34.000000\n",
       "Name: nkill, dtype: float64"
      ]
     },
     "execution_count": 72,
     "metadata": {},
     "output_type": "execute_result"
    }
   ],
   "source": [
    "df[(df.iyear > 2006)].groupby('gname').nkill.mean().sort_values(ascending=False)[:10]"
   ]
  },
  {
   "cell_type": "code",
   "execution_count": 76,
   "metadata": {
    "collapsed": false
   },
   "outputs": [
    {
     "data": {
      "text/plain": [
       "2417      6.0\n",
       "4974    200.0\n",
       "Name: nkill, dtype: float64"
      ]
     },
     "execution_count": 76,
     "metadata": {},
     "output_type": "execute_result"
    }
   ],
   "source": [
    "df[(df.iyear > 2006)&(df.gname=='Ansar al-Din Front')].sort_values('nkill').nkill"
   ]
  },
  {
   "cell_type": "code",
   "execution_count": null,
   "metadata": {
    "collapsed": true
   },
   "outputs": [],
   "source": []
  },
  {
   "cell_type": "code",
   "execution_count": null,
   "metadata": {
    "collapsed": true
   },
   "outputs": [],
   "source": []
  },
  {
   "cell_type": "code",
   "execution_count": null,
   "metadata": {
    "collapsed": true
   },
   "outputs": [],
   "source": []
  }
 ],
 "metadata": {
  "kernelspec": {
   "display_name": "Python 2",
   "language": "python",
   "name": "python2"
  },
  "language_info": {
   "codemirror_mode": {
    "name": "ipython",
    "version": 2
   },
   "file_extension": ".py",
   "mimetype": "text/x-python",
   "name": "python",
   "nbconvert_exporter": "python",
   "pygments_lexer": "ipython2",
   "version": "2.7.13"
  }
 },
 "nbformat": 4,
 "nbformat_minor": 2
}
